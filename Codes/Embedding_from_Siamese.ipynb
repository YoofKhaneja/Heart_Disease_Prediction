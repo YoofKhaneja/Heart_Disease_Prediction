{
  "nbformat": 4,
  "nbformat_minor": 0,
  "metadata": {
    "colab": {
      "name": "Embedding_from_Siamese.ipynb",
      "version": "0.3.2",
      "provenance": [],
      "collapsed_sections": [],
      "include_colab_link": true
    },
    "kernelspec": {
      "name": "python3",
      "display_name": "Python 3"
    },
    "accelerator": "GPU"
  },
  "cells": [
    {
      "cell_type": "markdown",
      "metadata": {
        "id": "view-in-github",
        "colab_type": "text"
      },
      "source": [
        "<a href=\"https://colab.research.google.com/github/YoofKhaneja/Heart_Disease_Prediction/blob/master/Codes/Embedding_from_Siamese.ipynb\" target=\"_parent\"><img src=\"https://colab.research.google.com/assets/colab-badge.svg\" alt=\"Open In Colab\"/></a>"
      ]
    },
    {
      "cell_type": "markdown",
      "metadata": {
        "id": "9zIgx5eu8uY4",
        "colab_type": "text"
      },
      "source": [
        "# Generate Embeddings using Weights of Pre-Trained Network"
      ]
    },
    {
      "cell_type": "markdown",
      "metadata": {
        "id": "VWnUTIzm9s2p",
        "colab_type": "text"
      },
      "source": [
        "### The weights Siamese network that was trained beforehand are used in a new single network to generate better embeddings of data. These new embeddings will then be used to train a new network."
      ]
    },
    {
      "cell_type": "markdown",
      "metadata": {
        "id": "5eQV8CYu63od",
        "colab_type": "text"
      },
      "source": [
        "## Importing the basic libraries"
      ]
    },
    {
      "cell_type": "code",
      "metadata": {
        "id": "5Za4YM2UmvHG",
        "colab_type": "code",
        "outputId": "90fce9b9-834f-4fd3-bb20-c3bc5c576f0e",
        "colab": {
          "base_uri": "https://localhost:8080/",
          "height": 33
        }
      },
      "source": [
        "import numpy as np\n",
        "import pandas as pd\n",
        "import keras\n",
        "import tensorflow as tf\n",
        "import warnings\n",
        "import matplotlib.pyplot as plt\n",
        "import seaborn as sns\n",
        "warnings.filterwarnings(\"ignore\")"
      ],
      "execution_count": 1,
      "outputs": [
        {
          "output_type": "stream",
          "text": [
            "Using TensorFlow backend.\n"
          ],
          "name": "stderr"
        }
      ]
    },
    {
      "cell_type": "markdown",
      "metadata": {
        "id": "nrxV7cT76_05",
        "colab_type": "text"
      },
      "source": [
        "## Random seeding"
      ]
    },
    {
      "cell_type": "code",
      "metadata": {
        "id": "8hSY20kUuZQo",
        "colab_type": "code",
        "colab": {}
      },
      "source": [
        "from numpy.random import seed\n",
        "seed(7)\n",
        "from tensorflow import set_random_seed\n",
        "set_random_seed(42)"
      ],
      "execution_count": 0,
      "outputs": []
    },
    {
      "cell_type": "markdown",
      "metadata": {
        "id": "0vQnRJ8x7Fqs",
        "colab_type": "text"
      },
      "source": [
        "## Loading the saved model and creating our new base network from it to generate embeddings"
      ]
    },
    {
      "cell_type": "code",
      "metadata": {
        "id": "e3JVFwvUH2Km",
        "colab_type": "code",
        "colab": {
          "base_uri": "https://localhost:8080/",
          "height": 216
        },
        "outputId": "4460c688-f00e-40af-9bd9-0978537ce98c"
      },
      "source": [
        "from keras import Model\n",
        "from google.colab import drive\n",
        "\n",
        "drive.mount('/content/gdrive')\n",
        "save_path_model = 'gdrive/My Drive/Models/siamese_model.h5'\n",
        "\n",
        "trained_model = tf.keras.models.load_model(save_path_model, compile = False)\n",
        "base_model = trained_model.get_layer('model_1')"
      ],
      "execution_count": 3,
      "outputs": [
        {
          "output_type": "stream",
          "text": [
            "Go to this URL in a browser: https://accounts.google.com/o/oauth2/auth?client_id=947318989803-6bn6qk8qdgf4n4g3pfee6491hc0brc4i.apps.googleusercontent.com&redirect_uri=urn%3Aietf%3Awg%3Aoauth%3A2.0%3Aoob&scope=email%20https%3A%2F%2Fwww.googleapis.com%2Fauth%2Fdocs.test%20https%3A%2F%2Fwww.googleapis.com%2Fauth%2Fdrive%20https%3A%2F%2Fwww.googleapis.com%2Fauth%2Fdrive.photos.readonly%20https%3A%2F%2Fwww.googleapis.com%2Fauth%2Fpeopleapi.readonly&response_type=code\n",
            "\n",
            "Enter your authorization code:\n",
            "··········\n",
            "Mounted at /content/gdrive\n",
            "WARNING:tensorflow:From /usr/local/lib/python3.6/dist-packages/tensorflow/python/ops/resource_variable_ops.py:435: colocate_with (from tensorflow.python.framework.ops) is deprecated and will be removed in a future version.\n",
            "Instructions for updating:\n",
            "Colocations handled automatically by placer.\n",
            "WARNING:tensorflow:From /usr/local/lib/python3.6/dist-packages/tensorflow/python/keras/layers/core.py:143: calling dropout (from tensorflow.python.ops.nn_ops) with keep_prob is deprecated and will be removed in a future version.\n",
            "Instructions for updating:\n",
            "Please use `rate` instead of `keep_prob`. Rate should be set to `rate = 1 - keep_prob`.\n"
          ],
          "name": "stdout"
        }
      ]
    },
    {
      "cell_type": "code",
      "metadata": {
        "id": "2tl7kJYmnqDr",
        "colab_type": "code",
        "outputId": "eb4902f0-264d-43f1-c6a2-88b94dddd8c7",
        "colab": {
          "base_uri": "https://localhost:8080/",
          "height": 326
        }
      },
      "source": [
        "base_model.compile(optimizer = 'Adam', loss = 'binary_crossentropy')\n",
        "base_model.summary()"
      ],
      "execution_count": 4,
      "outputs": [
        {
          "output_type": "stream",
          "text": [
            "_________________________________________________________________\n",
            "Layer (type)                 Output Shape              Param #   \n",
            "=================================================================\n",
            "input_1 (InputLayer)         (None, 15)                0         \n",
            "_________________________________________________________________\n",
            "D1 (Dense)                   (None, 256)               4096      \n",
            "_________________________________________________________________\n",
            "dropout_1 (Dropout)          (None, 256)               0         \n",
            "_________________________________________________________________\n",
            "D2 (Dense)                   (None, 256)               65792     \n",
            "_________________________________________________________________\n",
            "dropout_2 (Dropout)          (None, 256)               0         \n",
            "_________________________________________________________________\n",
            "Embeddings (Dense)           (None, 256)               65792     \n",
            "=================================================================\n",
            "Total params: 135,680\n",
            "Trainable params: 135,680\n",
            "Non-trainable params: 0\n",
            "_________________________________________________________________\n"
          ],
          "name": "stdout"
        }
      ]
    },
    {
      "cell_type": "markdown",
      "metadata": {
        "id": "Tj1tDUlF7Wfz",
        "colab_type": "text"
      },
      "source": [
        "## Visualizing the weights of each layer"
      ]
    },
    {
      "cell_type": "code",
      "metadata": {
        "id": "5qjwIYuyoVy0",
        "colab_type": "code",
        "outputId": "3f1d0b50-d925-4988-fa4b-42db027c878a",
        "colab": {
          "base_uri": "https://localhost:8080/",
          "height": 3430
        }
      },
      "source": [
        "names = [weight.name for layer in base_model.layers for weight in layer.weights]\n",
        "weights = base_model.get_weights()\n",
        "\n",
        "for name, weight in zip(names, weights):\n",
        "    print(name, weight)"
      ],
      "execution_count": 5,
      "outputs": [
        {
          "output_type": "stream",
          "text": [
            "D1/kernel:0 [[ 0.00729344  0.05832239  0.00564845 ... -0.00913493 -0.15176642\n",
            "  -0.10165922]\n",
            " [ 0.1698643  -0.05966703 -0.04480035 ...  0.02228253 -0.09405444\n",
            "  -0.11436351]\n",
            " [ 0.17087613  0.07797966 -0.1969061  ...  0.05221877 -0.16092853\n",
            "   0.01638158]\n",
            " ...\n",
            " [-0.28775206  0.02708439 -0.15235236 ...  0.04096884 -0.02592358\n",
            "   0.01935897]\n",
            " [-0.10952163 -0.14293598 -0.16736577 ... -0.34855786  0.1786514\n",
            "  -0.08515897]\n",
            " [-0.12054189 -0.6956326  -0.31234565 ...  0.00789948  0.21210329\n",
            "   0.07259376]]\n",
            "D1/bias:0 [ 1.47604244e-02  7.50642596e-03  7.20001012e-02  7.42459344e-03\n",
            " -1.43134836e-02 -3.79690751e-02  1.60800755e-01  2.82109040e-03\n",
            "  5.33856414e-02 -4.66869064e-02  4.64146174e-02 -2.40977108e-02\n",
            " -3.27881165e-02 -2.11722746e-01 -4.34356332e-02  7.31790289e-02\n",
            " -1.39102330e-02 -2.32165270e-02  0.00000000e+00 -1.82393566e-01\n",
            " -1.83642760e-01 -9.18589756e-02  8.07927549e-02  0.00000000e+00\n",
            "  0.00000000e+00 -2.17179172e-02  7.13412538e-02  2.73949429e-02\n",
            "  6.21993002e-03  1.10233337e-01 -6.09371485e-03 -8.46807510e-02\n",
            " -1.25476113e-03 -1.93215124e-02 -1.92592498e-02  6.14887811e-02\n",
            " -1.59825012e-02  6.07053488e-02 -4.37641777e-02 -1.66730583e-02\n",
            " -5.50802313e-02 -4.28378861e-03 -9.85260978e-02  7.77591541e-02\n",
            " -4.93049882e-02 -5.59211569e-03 -5.57604246e-03  1.35934174e-01\n",
            " -1.38020143e-01  9.67576578e-02 -1.54361427e-01 -1.06985606e-02\n",
            "  2.60195415e-02  7.82311782e-02 -3.11406027e-03 -2.63020415e-02\n",
            " -3.72945741e-02 -4.32563946e-02  0.00000000e+00 -3.51318680e-02\n",
            " -2.06989348e-02  2.47519091e-02  4.39824015e-02 -8.17813873e-02\n",
            " -1.35117650e-01  1.79401599e-02 -5.87865617e-03  4.95068077e-03\n",
            " -5.14201783e-02 -1.76861547e-02 -1.54804513e-01  6.39819950e-02\n",
            " -7.27557987e-02  1.22101329e-01 -6.01157267e-03  1.08834240e-04\n",
            " -4.54893336e-02 -2.59653702e-02 -7.45442063e-02 -5.70610352e-02\n",
            "  3.06114126e-02 -8.42746869e-02  6.18002899e-02  3.45189385e-02\n",
            "  2.98009138e-03 -3.85636762e-02  1.39967903e-01 -5.63614517e-02\n",
            " -5.98392114e-02 -7.48957768e-02  3.25616226e-02 -1.73001111e-01\n",
            " -2.12739483e-02 -1.52070512e-04 -2.35681161e-02 -6.56053200e-02\n",
            " -5.11847548e-02 -1.38477668e-01  1.03353351e-01 -3.04652434e-02\n",
            " -6.12941608e-02 -1.57680083e-02  2.35914644e-02  0.00000000e+00\n",
            " -5.00480942e-02 -9.63764489e-02  8.28366503e-02 -7.98790976e-02\n",
            " -9.24533680e-02  1.09532431e-01 -2.22638100e-01 -3.16797607e-02\n",
            " -1.22866176e-01 -6.41938150e-02 -2.34278254e-02  2.15334669e-02\n",
            "  5.02465740e-02  3.64082530e-02  4.74005155e-02  8.57408345e-02\n",
            " -6.54107481e-02 -8.77501890e-02 -1.57039508e-01  1.40013024e-01\n",
            " -3.04185469e-02 -7.29457885e-02  9.23130736e-02 -1.16092153e-01\n",
            " -8.04440305e-02  1.18526435e-02 -7.97033831e-02  1.26336724e-01\n",
            "  8.50268006e-02 -3.61492336e-02 -3.08391768e-02 -3.61740291e-02\n",
            " -4.79428992e-02  1.02680035e-01  0.00000000e+00  6.21887892e-02\n",
            "  7.12063760e-02  6.96759224e-02  3.94549519e-02  1.18277565e-01\n",
            " -7.18958825e-02 -7.89611116e-02 -3.31181847e-02 -1.40405566e-01\n",
            " -7.50624761e-02  1.31880924e-01 -9.72519368e-02 -3.83765064e-02\n",
            "  6.50755242e-02 -5.10003939e-02 -8.60643107e-03  3.01720072e-02\n",
            " -3.48948576e-02 -1.62084606e-02  3.01554259e-02 -9.85986441e-02\n",
            " -2.29025513e-01  8.46434310e-02 -2.66463459e-02 -9.15817171e-02\n",
            " -1.15642902e-02 -3.15886852e-03 -1.35922968e-01  2.24208012e-02\n",
            " -1.61061838e-01 -1.11336917e-01 -1.29740521e-01 -6.05787747e-02\n",
            " -2.13097800e-02 -1.35749757e-01  7.78973848e-02  3.08152232e-02\n",
            " -3.60121913e-02  8.36988539e-02  1.29663229e-01  1.86268929e-02\n",
            " -1.88427288e-02 -4.74056564e-02  1.22179784e-01  0.00000000e+00\n",
            " -1.30273607e-02  1.38404280e-01  1.41139910e-01  1.12226023e-03\n",
            " -2.30300188e-01  7.39190727e-02 -7.75336251e-02  2.99088676e-02\n",
            "  1.32843912e-01  4.79968712e-02 -4.56655882e-02  2.49071587e-02\n",
            "  1.50342077e-01 -1.44693300e-01  1.42520934e-01 -9.73885581e-02\n",
            "  6.12651408e-02  6.21513501e-02 -2.05203727e-01  7.57651255e-02\n",
            " -6.73415214e-02 -2.70196889e-02  7.81721696e-02 -6.16809539e-02\n",
            "  6.15623295e-02  0.00000000e+00  7.61104822e-02  1.19800158e-01\n",
            " -1.16750747e-01 -1.05290376e-02  1.36838332e-01 -6.38104677e-02\n",
            " -2.48207916e-02  4.09919992e-02 -5.65842912e-02 -6.13601953e-02\n",
            " -5.86421415e-02  7.01706624e-03  7.38525242e-02 -4.23956141e-02\n",
            "  7.31623545e-02 -1.71203196e-01  5.27741462e-02 -9.47609469e-02\n",
            "  1.50827458e-02  7.80533254e-02 -1.88753501e-01  1.94946788e-02\n",
            "  8.72412175e-02 -4.78373095e-02  3.61350253e-02 -3.12369708e-02\n",
            " -2.32686382e-03 -3.49158719e-02 -1.48515031e-01 -1.03946470e-01\n",
            " -1.41955051e-03 -3.17219528e-04 -8.03039968e-02 -9.45384502e-02\n",
            "  1.43605089e-02 -5.81151666e-03  1.49804372e-02  7.59646203e-03\n",
            "  2.38821842e-02  8.46940801e-02 -8.72240588e-02 -1.35311812e-01\n",
            " -6.92540333e-02 -9.69260857e-02 -1.11764394e-01 -6.93741255e-03]\n",
            "D2/kernel:0 [[ 4.02745634e-01 -2.79130861e-02 -2.91926824e-02 ...  2.39595175e-01\n",
            "  -2.09416747e-01  3.41441035e-02]\n",
            " [ 1.19365796e-01 -2.47638583e-01  7.09716417e-03 ... -9.63044465e-02\n",
            "   1.94350868e-01  8.11782479e-02]\n",
            " [ 1.07087232e-02  1.09158084e-01  1.25539139e-01 ... -5.64989285e-04\n",
            "  -4.48038578e-01 -8.33010674e-02]\n",
            " ...\n",
            " [-4.60125983e-01  1.96744710e-01  7.62539776e-03 ... -2.34363407e-01\n",
            "  -2.13658720e-01 -2.08271074e+00]\n",
            " [-6.02926426e-02 -3.94481808e-01  5.77289090e-02 ...  1.59225287e-03\n",
            "  -3.35648686e-01 -1.30842984e-01]\n",
            " [-6.26513595e-03  9.86124799e-02 -8.07188973e-02 ...  5.31102754e-02\n",
            "   3.92822735e-02  5.18304668e-02]]\n",
            "D2/bias:0 [-3.18256067e-03 -7.92892184e-03 -4.59988900e-02  4.23135646e-02\n",
            " -2.84224469e-02 -8.42710212e-03  1.06978966e-02  2.73649227e-02\n",
            " -5.97080216e-03  1.81105528e-02 -5.81039861e-02 -3.85987200e-02\n",
            "  5.47440238e-02  1.04806917e-02 -6.90123588e-02 -7.85088986e-02\n",
            " -4.55579683e-02 -3.28568295e-02 -6.14702031e-02 -3.22806686e-02\n",
            " -3.71504165e-02 -1.90207604e-02 -3.13672870e-02  5.83794946e-03\n",
            "  2.79341117e-02 -2.48096585e-02 -6.17204458e-02  4.18458767e-02\n",
            " -1.43888611e-02 -3.20530012e-02  2.70871213e-03 -6.92839101e-02\n",
            " -5.23543730e-02  2.57298164e-02 -9.57340896e-02 -5.09396717e-02\n",
            " -5.32894619e-02 -2.85692457e-02 -2.20774952e-02 -5.89340813e-02\n",
            " -1.00342743e-02  6.71532750e-03 -4.82946821e-02 -5.44925109e-02\n",
            "  4.37451713e-03 -5.99343628e-02 -3.91925573e-02 -9.64764506e-02\n",
            " -5.91152348e-02 -2.61516832e-02 -9.37660709e-02 -5.15381433e-02\n",
            " -2.29450734e-03  1.46679664e-02  5.63771883e-03 -1.16116810e-03\n",
            " -3.88935246e-02  2.08204091e-02 -3.69533300e-02  3.07742180e-03\n",
            " -4.40411568e-02 -4.84409183e-03  1.12457918e-02 -3.99819249e-03\n",
            " -5.01048490e-02 -4.22076099e-02  2.07783245e-02 -3.70506346e-02\n",
            " -6.15889430e-02 -2.71149110e-02  2.00786907e-02 -5.91169745e-02\n",
            "  2.65392549e-02  8.43001828e-02 -1.05516575e-02 -2.88140140e-02\n",
            " -6.68343753e-02  5.05942665e-02 -2.93033533e-02 -4.95446995e-02\n",
            " -2.34307870e-02 -1.28907427e-01 -8.71430859e-02 -6.34587631e-02\n",
            " -1.47142867e-02  4.65346277e-02  4.62732762e-02 -1.64704281e-03\n",
            " -2.70996634e-02 -1.11282401e-01 -6.45793322e-03  3.62406336e-02\n",
            "  6.03132229e-03  1.96022857e-02  9.28311795e-03 -1.39613509e-01\n",
            " -4.43194956e-02  1.25480387e-02 -9.49485600e-03 -6.18672036e-02\n",
            " -4.61736927e-05 -3.79683338e-02 -3.88532802e-02  2.74350843e-03\n",
            " -3.26133054e-03 -5.43589285e-03 -4.53325845e-02 -8.11696500e-02\n",
            "  1.21165235e-02 -7.49329710e-03  4.42407876e-02 -6.14310503e-02\n",
            " -6.85690790e-02 -2.65930332e-02 -1.76486354e-02 -1.25065055e-02\n",
            "  3.67551530e-03 -9.78388451e-03 -4.48770523e-02 -3.15745734e-02\n",
            " -6.38134778e-02  2.61400491e-02  1.34911649e-02 -4.74320315e-02\n",
            " -6.77259732e-03  1.29990941e-02  1.13690747e-02 -4.68331650e-02\n",
            "  1.14823868e-02  2.58544907e-02 -1.06606558e-02 -9.47598889e-02\n",
            " -5.89104071e-02 -4.34308313e-02 -4.61462140e-02 -2.66655348e-02\n",
            " -2.28594288e-01  1.41182933e-02  5.96967433e-03 -8.47193412e-03\n",
            " -5.87684773e-02  3.50889526e-02 -2.59304587e-02  2.09332630e-02\n",
            "  4.36180048e-02 -4.82437313e-02 -2.84040663e-02  1.20464079e-02\n",
            " -8.70313048e-02 -3.21019590e-02 -2.47828439e-02 -1.85563508e-02\n",
            " -1.45979607e-02 -3.84221263e-02  1.41057959e-02  4.30458896e-02\n",
            "  2.51316167e-02  1.16182417e-02 -2.33321562e-02 -3.13620418e-02\n",
            " -1.41332799e-03  1.97285172e-02  6.87966496e-03 -3.35525572e-02\n",
            " -9.66849476e-02 -2.22655199e-02 -4.74427603e-02  6.91481978e-02\n",
            "  3.48211415e-02 -8.62723961e-03 -1.69279578e-03 -2.95745488e-02\n",
            " -3.89042124e-02  5.38019203e-02 -4.20233235e-02  3.12500000e-02\n",
            " -9.96612106e-03 -3.13144960e-02 -5.78481369e-02  6.49741292e-03\n",
            "  4.87371348e-02 -7.76686817e-02 -3.71477343e-02  1.42800473e-02\n",
            " -1.09551502e-02 -5.66504970e-02  9.34592169e-03  2.79770307e-02\n",
            "  1.29327849e-02  4.29079495e-02 -4.52873260e-02  4.97289002e-03\n",
            " -2.19858252e-02  1.11980448e-02 -3.93939875e-02 -1.35629941e-02\n",
            "  5.71256652e-02  1.43196015e-02  2.08553541e-02 -4.90357801e-02\n",
            "  6.17742844e-05  1.08894771e-02  1.63474027e-02  2.66461316e-02\n",
            "  2.44034231e-02 -3.54235014e-03  2.54082587e-03  1.10412166e-02\n",
            " -1.37552455e-01 -2.07991451e-02  1.22966580e-02 -7.74373636e-02\n",
            " -2.94847284e-02 -3.44393812e-02  7.03958143e-03  1.36776352e-02\n",
            "  1.45526743e-03 -3.39749753e-02 -4.56899516e-02 -1.84222241e-04\n",
            "  3.97824869e-02 -3.01468447e-02  6.86219111e-02 -9.92712080e-02\n",
            " -5.39239384e-02 -3.92787950e-03  2.62441672e-03  3.85332853e-02\n",
            " -1.51400380e-02  5.17596165e-03  1.06659194e-03  3.33963409e-02\n",
            "  2.19490863e-02  2.94908397e-02 -1.15393214e-02 -5.17298207e-02\n",
            "  1.77837778e-02 -4.59974036e-02  1.82187539e-02 -1.90007817e-02\n",
            " -1.29280491e-02 -6.76031709e-02 -2.16655321e-02  1.70329921e-02\n",
            " -2.86317081e-03 -3.98816280e-02  1.41795143e-04  1.56173632e-02\n",
            " -3.09081227e-02 -2.02448405e-02  3.44359353e-02  3.67446244e-02\n",
            " -5.93440793e-02 -8.56093876e-03  1.00998273e-02  1.23087063e-01]\n",
            "Embeddings/kernel:0 [[-0.05462376 -0.8155588   0.04249847 ... -0.7294246  -0.08463027\n",
            "  -0.72065264]\n",
            " [-0.07159524 -1.0533708  -0.05612841 ... -0.9745608   0.01926151\n",
            "  -0.96799266]\n",
            " [-0.06537821 -0.9084115  -0.06288978 ... -0.8306005  -0.02338993\n",
            "  -0.82958895]\n",
            " ...\n",
            " [-0.14360814  0.03605676  0.06488034 ...  0.03563198 -0.10677946\n",
            "   0.03475206]\n",
            " [-0.11212466 -0.63741684 -0.06217243 ... -0.56978995 -0.17009048\n",
            "  -0.5670354 ]\n",
            " [ 0.14886124 -0.11119863 -0.00788287 ... -0.12998685 -0.1590619\n",
            "  -0.12380826]]\n",
            "Embeddings/bias:0 [-0.0457947   0.12470422 -0.06234241  0.11126301 -0.05778896  0.11627363\n",
            " -0.04221699 -0.03111623 -0.0227473  -0.03954846 -0.03653474 -0.07054862\n",
            "  0.10366769 -0.03771461  0.12322101 -0.06355762  0.11684722 -0.0671575\n",
            " -0.0303102  -0.04338443 -0.06955533  0.0875683   0.11165547 -0.03072811\n",
            " -0.03417462 -0.04154761  0.11146488  0.01430937 -0.01985747 -0.02185666\n",
            " -0.05388409 -0.02875295 -0.04770975 -0.06843313 -0.03263523  0.11599932\n",
            " -0.01900383  0.12536936 -0.02181128 -0.05610196  0.12067027  0.12424096\n",
            " -0.05695084 -0.03332656 -0.01988293 -0.06766152  0.11442352 -0.03631428\n",
            " -0.03776053 -0.06562164  0.11045074 -0.07345606  0.12454209 -0.05134167\n",
            "  0.12855604 -0.01564479 -0.05290015 -0.03224572  0.12034444 -0.05839209\n",
            "  0.11389748  0.11265909 -0.01955462  0.1136704  -0.05105838 -0.05630892\n",
            " -0.07582452 -0.0641529   0.12571418 -0.07456782 -0.05594784  0.11059757\n",
            " -0.06370609 -0.06727745  0.01181242 -0.06849064 -0.06003008 -0.02042509\n",
            "  0.11837898 -0.07187968 -0.06138679 -0.06145116 -0.07956876 -0.05784417\n",
            " -0.06961308 -0.04203501 -0.01775532 -0.06965633 -0.03076875  0.11957915\n",
            " -0.04343425  0.1121977  -0.05148541 -0.05093932 -0.03469201 -0.08734931\n",
            " -0.08135054 -0.03704852 -0.05380243 -0.01324769 -0.06475934 -0.03988763\n",
            " -0.06706273 -0.06982958 -0.03779425 -0.06054113  0.10753213 -0.07931938\n",
            " -0.05913481 -0.01781767 -0.05617967 -0.07252901 -0.0637344  -0.04556742\n",
            " -0.00449972  0.10961071 -0.03899332 -0.05098535 -0.03824224 -0.05041952\n",
            " -0.05740839 -0.05829164 -0.05085341 -0.08160038 -0.03319987  0.09416614\n",
            "  0.1338381  -0.00555201 -0.03518233 -0.0507765  -0.05288965  0.11251497\n",
            " -0.01344347 -0.08054128  0.11955384  0.12211344 -0.05662362 -0.03552803\n",
            " -0.04286578 -0.03104626 -0.05355909 -0.0693338  -0.01319795  0.12329165\n",
            " -0.0487301  -0.05613935 -0.05079801 -0.06263558  0.11455058  0.14459716\n",
            " -0.01789191 -0.05400868 -0.04245125  0.11818849  0.12111858  0.11977527\n",
            " -0.0840763  -0.05721126 -0.04606136 -0.03635354 -0.06391939  0.1120774\n",
            " -0.02089496 -0.03876025 -0.03941657 -0.04626429 -0.05485594 -0.04191131\n",
            " -0.07046025  0.11852153 -0.06469191 -0.07292098 -0.04269929 -0.06919625\n",
            " -0.06060196 -0.05345401 -0.05086347  0.00288602 -0.05740848  0.119178\n",
            "  0.23054808  0.11513063  0.1260247  -0.02600511  0.1389982  -0.05771092\n",
            "  0.12849042 -0.06303702  0.10972572  0.10790025  0.11067255  0.11206996\n",
            " -0.05387732 -0.01197898  0.1067813  -0.02887418 -0.03818342  0.11671738\n",
            "  0.11630031 -0.06453955 -0.01824978  0.12676696  0.11271518 -0.0735248\n",
            " -0.05946601 -0.05488527 -0.06648237 -0.03533806 -0.04920237 -0.02402019\n",
            " -0.05108067 -0.0522039  -0.05063816  0.12451481 -0.06299347 -0.09472246\n",
            " -0.03652587  0.04728188  0.0665198  -0.05924448  0.11540361  0.10894847\n",
            " -0.07516735 -0.03904435 -0.06520716 -0.04385725 -0.06410871 -0.01038474\n",
            " -0.05390983 -0.0334267  -0.04236531 -0.0663178  -0.05078786  0.1077299\n",
            " -0.03099275 -0.05593731 -0.06200165 -0.05006038 -0.02889441 -0.07485864\n",
            " -0.07026202 -0.05377604 -0.03558414 -0.05278797 -0.0476924  -0.03428426\n",
            "  0.10702713 -0.03630541 -0.0390614  -0.02775132  0.11288793 -0.07059266\n",
            " -0.04922499  0.11258513 -0.03498805  0.11274038]\n"
          ],
          "name": "stdout"
        }
      ]
    },
    {
      "cell_type": "markdown",
      "metadata": {
        "id": "lKmzV4YP7jjd",
        "colab_type": "text"
      },
      "source": [
        "## Loading the data and preprocessing"
      ]
    },
    {
      "cell_type": "code",
      "metadata": {
        "id": "KmFipRzlobsd",
        "colab_type": "code",
        "outputId": "fb04609c-b832-4a6a-cf67-19660aead7d4",
        "colab": {
          "base_uri": "https://localhost:8080/",
          "height": 483
        }
      },
      "source": [
        "url = 'https://raw.githubusercontent.com/YoofKhaneja/Heart_Disease_Prediction/master/Codes/framingham.csv'\n",
        "hd = pd.read_csv(url)\n",
        "print('Before preprocessing: ')\n",
        "print(hd.isnull().sum())\n",
        "hd.head()"
      ],
      "execution_count": 6,
      "outputs": [
        {
          "output_type": "stream",
          "text": [
            "Before preprocessing: \n",
            "male                 0\n",
            "age                  0\n",
            "education          105\n",
            "currentSmoker        0\n",
            "cigsPerDay          29\n",
            "BPMeds              53\n",
            "prevalentStroke      0\n",
            "prevalentHyp         0\n",
            "diabetes             0\n",
            "totChol             50\n",
            "sysBP                0\n",
            "diaBP                0\n",
            "BMI                 19\n",
            "heartRate            1\n",
            "glucose            388\n",
            "TenYearCHD           0\n",
            "dtype: int64\n"
          ],
          "name": "stdout"
        },
        {
          "output_type": "execute_result",
          "data": {
            "text/html": [
              "<div>\n",
              "<style scoped>\n",
              "    .dataframe tbody tr th:only-of-type {\n",
              "        vertical-align: middle;\n",
              "    }\n",
              "\n",
              "    .dataframe tbody tr th {\n",
              "        vertical-align: top;\n",
              "    }\n",
              "\n",
              "    .dataframe thead th {\n",
              "        text-align: right;\n",
              "    }\n",
              "</style>\n",
              "<table border=\"1\" class=\"dataframe\">\n",
              "  <thead>\n",
              "    <tr style=\"text-align: right;\">\n",
              "      <th></th>\n",
              "      <th>male</th>\n",
              "      <th>age</th>\n",
              "      <th>education</th>\n",
              "      <th>currentSmoker</th>\n",
              "      <th>cigsPerDay</th>\n",
              "      <th>BPMeds</th>\n",
              "      <th>prevalentStroke</th>\n",
              "      <th>prevalentHyp</th>\n",
              "      <th>diabetes</th>\n",
              "      <th>totChol</th>\n",
              "      <th>sysBP</th>\n",
              "      <th>diaBP</th>\n",
              "      <th>BMI</th>\n",
              "      <th>heartRate</th>\n",
              "      <th>glucose</th>\n",
              "      <th>TenYearCHD</th>\n",
              "    </tr>\n",
              "  </thead>\n",
              "  <tbody>\n",
              "    <tr>\n",
              "      <th>0</th>\n",
              "      <td>1</td>\n",
              "      <td>39</td>\n",
              "      <td>4.0</td>\n",
              "      <td>0</td>\n",
              "      <td>0.0</td>\n",
              "      <td>0.0</td>\n",
              "      <td>0</td>\n",
              "      <td>0</td>\n",
              "      <td>0</td>\n",
              "      <td>195.0</td>\n",
              "      <td>106.0</td>\n",
              "      <td>70.0</td>\n",
              "      <td>26.97</td>\n",
              "      <td>80.0</td>\n",
              "      <td>77.0</td>\n",
              "      <td>0</td>\n",
              "    </tr>\n",
              "    <tr>\n",
              "      <th>1</th>\n",
              "      <td>0</td>\n",
              "      <td>46</td>\n",
              "      <td>2.0</td>\n",
              "      <td>0</td>\n",
              "      <td>0.0</td>\n",
              "      <td>0.0</td>\n",
              "      <td>0</td>\n",
              "      <td>0</td>\n",
              "      <td>0</td>\n",
              "      <td>250.0</td>\n",
              "      <td>121.0</td>\n",
              "      <td>81.0</td>\n",
              "      <td>28.73</td>\n",
              "      <td>95.0</td>\n",
              "      <td>76.0</td>\n",
              "      <td>0</td>\n",
              "    </tr>\n",
              "    <tr>\n",
              "      <th>2</th>\n",
              "      <td>1</td>\n",
              "      <td>48</td>\n",
              "      <td>1.0</td>\n",
              "      <td>1</td>\n",
              "      <td>20.0</td>\n",
              "      <td>0.0</td>\n",
              "      <td>0</td>\n",
              "      <td>0</td>\n",
              "      <td>0</td>\n",
              "      <td>245.0</td>\n",
              "      <td>127.5</td>\n",
              "      <td>80.0</td>\n",
              "      <td>25.34</td>\n",
              "      <td>75.0</td>\n",
              "      <td>70.0</td>\n",
              "      <td>0</td>\n",
              "    </tr>\n",
              "    <tr>\n",
              "      <th>3</th>\n",
              "      <td>0</td>\n",
              "      <td>61</td>\n",
              "      <td>3.0</td>\n",
              "      <td>1</td>\n",
              "      <td>30.0</td>\n",
              "      <td>0.0</td>\n",
              "      <td>0</td>\n",
              "      <td>1</td>\n",
              "      <td>0</td>\n",
              "      <td>225.0</td>\n",
              "      <td>150.0</td>\n",
              "      <td>95.0</td>\n",
              "      <td>28.58</td>\n",
              "      <td>65.0</td>\n",
              "      <td>103.0</td>\n",
              "      <td>1</td>\n",
              "    </tr>\n",
              "    <tr>\n",
              "      <th>4</th>\n",
              "      <td>0</td>\n",
              "      <td>46</td>\n",
              "      <td>3.0</td>\n",
              "      <td>1</td>\n",
              "      <td>23.0</td>\n",
              "      <td>0.0</td>\n",
              "      <td>0</td>\n",
              "      <td>0</td>\n",
              "      <td>0</td>\n",
              "      <td>285.0</td>\n",
              "      <td>130.0</td>\n",
              "      <td>84.0</td>\n",
              "      <td>23.10</td>\n",
              "      <td>85.0</td>\n",
              "      <td>85.0</td>\n",
              "      <td>0</td>\n",
              "    </tr>\n",
              "  </tbody>\n",
              "</table>\n",
              "</div>"
            ],
            "text/plain": [
              "   male  age  education  currentSmoker  ...    BMI  heartRate  glucose  TenYearCHD\n",
              "0     1   39        4.0              0  ...  26.97       80.0     77.0           0\n",
              "1     0   46        2.0              0  ...  28.73       95.0     76.0           0\n",
              "2     1   48        1.0              1  ...  25.34       75.0     70.0           0\n",
              "3     0   61        3.0              1  ...  28.58       65.0    103.0           1\n",
              "4     0   46        3.0              1  ...  23.10       85.0     85.0           0\n",
              "\n",
              "[5 rows x 16 columns]"
            ]
          },
          "metadata": {
            "tags": []
          },
          "execution_count": 6
        }
      ]
    },
    {
      "cell_type": "code",
      "metadata": {
        "id": "-rcDwdhBUK5S",
        "colab_type": "code",
        "outputId": "72d20e96-95ae-4ac3-c378-a34f02850a1f",
        "colab": {
          "base_uri": "https://localhost:8080/",
          "height": 70
        }
      },
      "source": [
        "import random\n",
        "from fancyimpute import IterativeImputer\n",
        "\n",
        "hd.BPMeds = hd.BPMeds.fillna(0)\n",
        "edu = [1, 2, 3, 4]\n",
        "c = 0\n",
        "for i in range(len(hd.education)):\n",
        "    if hd.education[i] not in edu:\n",
        "        t = random.randint(1, 4)\n",
        "        hd.education[i] = t\n",
        "hdi = pd.DataFrame(IterativeImputer().fit_transform(hd))\n",
        "hdi.columns = hd.columns"
      ],
      "execution_count": 7,
      "outputs": [
        {
          "output_type": "stream",
          "text": [
            "/usr/local/lib/python3.6/dist-packages/sklearn/externals/six.py:31: DeprecationWarning: The module is deprecated in version 0.21 and will be removed in version 0.23 since we've dropped support for Python 2.7. Please rely on the official version of six (https://pypi.org/project/six/).\n",
            "  \"(https://pypi.org/project/six/).\", DeprecationWarning)\n"
          ],
          "name": "stderr"
        }
      ]
    },
    {
      "cell_type": "code",
      "metadata": {
        "id": "dCPCI3T1piID",
        "colab_type": "code",
        "colab": {}
      },
      "source": [
        "hd_ = hdi.copy(deep = True)\n",
        "hd_['age'] = pd.cut(hd_['age'], \n",
        "                    5, \n",
        "                    labels = [1, 2, 3, 4, 5])\n",
        "hd_['cigsPerDay'] = pd.cut(hd_['cigsPerDay'], \n",
        "                           6, \n",
        "                           labels = [1, 2, 3, 4, 5, 6])\n",
        "hd_['totChol'] = pd.cut(hd_['totChol'], \n",
        "                        13, \n",
        "                        labels = [1, 2, 3, 4, 5, 6, 7, 8, 9, 10, 11, 12, 13])\n",
        "hd_['sysBP'] = pd.cut(hd_['sysBP'], \n",
        "                      10, \n",
        "                      labels = [1, 2, 3, 4, 5, 6, 7, 8, 9, 10])\n",
        "hd_['diaBP'] = pd.cut(hd_['diaBP'], \n",
        "                      8, \n",
        "                      labels = [1, 2, 3, 4, 5, 6, 7, 8])\n",
        "hd_['BMI'] = pd.cut(hd_['BMI'], \n",
        "                    10, \n",
        "                    labels = [1, 2, 3, 4, 5, 6, 7, 8, 9, 10])\n",
        "hd_['heartRate'] = pd.cut(hd_['heartRate'], \n",
        "                          8, \n",
        "                          labels = [1, 2, 3, 4, 5, 6, 7, 8])\n",
        "hd_['glucose'] = pd.cut(hd_['glucose'], \n",
        "                        15, \n",
        "                        labels = [1, 2, 3, 4, 5, 6, 7, 8, 9, 10, 11, 12, 13, 14, 15])\n",
        "\n",
        "hd_['age'] = hd_['age'].apply(lambda x: round(x*0.2, 2))\n",
        "hd_['education'] = hd_['education'].apply(lambda x: round(x*0.25, 2))\n",
        "hd_['cigsPerDay'] = hd_['cigsPerDay'].apply(lambda x: round(x*0.16, 2))\n",
        "hd_['totChol'] = hd_['totChol'].apply(lambda x: round(x*0.077, 2))\n",
        "hd_['sysBP'] = hd_['sysBP'].apply(lambda x: round(x*0.1, 2))\n",
        "hd_['diaBP'] = hd_['diaBP'].apply(lambda x: round(x*0.125, 2))\n",
        "hd_['BMI'] = hd_['BMI'].apply(lambda x: round(x*0.1, 2))\n",
        "hd_['heartRate'] = hd_['heartRate'].apply(lambda x: round(x*0.125, 2))\n",
        "hd_['glucose'] = hd_['glucose'].apply(lambda x: round(x*0.067, 2))"
      ],
      "execution_count": 0,
      "outputs": []
    },
    {
      "cell_type": "code",
      "metadata": {
        "id": "oWMOKdvXUZnk",
        "colab_type": "code",
        "outputId": "dffb600d-dcfd-487a-a2e7-8959e4185d6a",
        "colab": {
          "base_uri": "https://localhost:8080/",
          "height": 483
        }
      },
      "source": [
        "print('After preprocessing:')\n",
        "print(hd_.isnull().sum())\n",
        "hd_.head()"
      ],
      "execution_count": 9,
      "outputs": [
        {
          "output_type": "stream",
          "text": [
            "After preprocessing:\n",
            "male               0\n",
            "age                0\n",
            "education          0\n",
            "currentSmoker      0\n",
            "cigsPerDay         0\n",
            "BPMeds             0\n",
            "prevalentStroke    0\n",
            "prevalentHyp       0\n",
            "diabetes           0\n",
            "totChol            0\n",
            "sysBP              0\n",
            "diaBP              0\n",
            "BMI                0\n",
            "heartRate          0\n",
            "glucose            0\n",
            "TenYearCHD         0\n",
            "dtype: int64\n"
          ],
          "name": "stdout"
        },
        {
          "output_type": "execute_result",
          "data": {
            "text/html": [
              "<div>\n",
              "<style scoped>\n",
              "    .dataframe tbody tr th:only-of-type {\n",
              "        vertical-align: middle;\n",
              "    }\n",
              "\n",
              "    .dataframe tbody tr th {\n",
              "        vertical-align: top;\n",
              "    }\n",
              "\n",
              "    .dataframe thead th {\n",
              "        text-align: right;\n",
              "    }\n",
              "</style>\n",
              "<table border=\"1\" class=\"dataframe\">\n",
              "  <thead>\n",
              "    <tr style=\"text-align: right;\">\n",
              "      <th></th>\n",
              "      <th>male</th>\n",
              "      <th>age</th>\n",
              "      <th>education</th>\n",
              "      <th>currentSmoker</th>\n",
              "      <th>cigsPerDay</th>\n",
              "      <th>BPMeds</th>\n",
              "      <th>prevalentStroke</th>\n",
              "      <th>prevalentHyp</th>\n",
              "      <th>diabetes</th>\n",
              "      <th>totChol</th>\n",
              "      <th>sysBP</th>\n",
              "      <th>diaBP</th>\n",
              "      <th>BMI</th>\n",
              "      <th>heartRate</th>\n",
              "      <th>glucose</th>\n",
              "      <th>TenYearCHD</th>\n",
              "    </tr>\n",
              "  </thead>\n",
              "  <tbody>\n",
              "    <tr>\n",
              "      <th>0</th>\n",
              "      <td>1.0</td>\n",
              "      <td>0.2</td>\n",
              "      <td>1.00</td>\n",
              "      <td>0.0</td>\n",
              "      <td>0.16</td>\n",
              "      <td>0.0</td>\n",
              "      <td>0.0</td>\n",
              "      <td>0.0</td>\n",
              "      <td>0.0</td>\n",
              "      <td>0.15</td>\n",
              "      <td>0.2</td>\n",
              "      <td>0.25</td>\n",
              "      <td>0.3</td>\n",
              "      <td>0.38</td>\n",
              "      <td>0.13</td>\n",
              "      <td>0.0</td>\n",
              "    </tr>\n",
              "    <tr>\n",
              "      <th>1</th>\n",
              "      <td>0.0</td>\n",
              "      <td>0.4</td>\n",
              "      <td>0.50</td>\n",
              "      <td>0.0</td>\n",
              "      <td>0.16</td>\n",
              "      <td>0.0</td>\n",
              "      <td>0.0</td>\n",
              "      <td>0.0</td>\n",
              "      <td>0.0</td>\n",
              "      <td>0.31</td>\n",
              "      <td>0.2</td>\n",
              "      <td>0.38</td>\n",
              "      <td>0.4</td>\n",
              "      <td>0.62</td>\n",
              "      <td>0.13</td>\n",
              "      <td>0.0</td>\n",
              "    </tr>\n",
              "    <tr>\n",
              "      <th>2</th>\n",
              "      <td>1.0</td>\n",
              "      <td>0.6</td>\n",
              "      <td>0.25</td>\n",
              "      <td>1.0</td>\n",
              "      <td>0.32</td>\n",
              "      <td>0.0</td>\n",
              "      <td>0.0</td>\n",
              "      <td>0.0</td>\n",
              "      <td>0.0</td>\n",
              "      <td>0.31</td>\n",
              "      <td>0.3</td>\n",
              "      <td>0.38</td>\n",
              "      <td>0.3</td>\n",
              "      <td>0.38</td>\n",
              "      <td>0.13</td>\n",
              "      <td>0.0</td>\n",
              "    </tr>\n",
              "    <tr>\n",
              "      <th>3</th>\n",
              "      <td>0.0</td>\n",
              "      <td>0.8</td>\n",
              "      <td>0.75</td>\n",
              "      <td>1.0</td>\n",
              "      <td>0.48</td>\n",
              "      <td>0.0</td>\n",
              "      <td>0.0</td>\n",
              "      <td>1.0</td>\n",
              "      <td>0.0</td>\n",
              "      <td>0.23</td>\n",
              "      <td>0.4</td>\n",
              "      <td>0.50</td>\n",
              "      <td>0.4</td>\n",
              "      <td>0.25</td>\n",
              "      <td>0.20</td>\n",
              "      <td>1.0</td>\n",
              "    </tr>\n",
              "    <tr>\n",
              "      <th>4</th>\n",
              "      <td>0.0</td>\n",
              "      <td>0.4</td>\n",
              "      <td>0.75</td>\n",
              "      <td>1.0</td>\n",
              "      <td>0.32</td>\n",
              "      <td>0.0</td>\n",
              "      <td>0.0</td>\n",
              "      <td>0.0</td>\n",
              "      <td>0.0</td>\n",
              "      <td>0.31</td>\n",
              "      <td>0.3</td>\n",
              "      <td>0.50</td>\n",
              "      <td>0.2</td>\n",
              "      <td>0.50</td>\n",
              "      <td>0.13</td>\n",
              "      <td>0.0</td>\n",
              "    </tr>\n",
              "  </tbody>\n",
              "</table>\n",
              "</div>"
            ],
            "text/plain": [
              "   male  age  education  currentSmoker  ...  BMI  heartRate  glucose  TenYearCHD\n",
              "0   1.0  0.2       1.00            0.0  ...  0.3       0.38     0.13         0.0\n",
              "1   0.0  0.4       0.50            0.0  ...  0.4       0.62     0.13         0.0\n",
              "2   1.0  0.6       0.25            1.0  ...  0.3       0.38     0.13         0.0\n",
              "3   0.0  0.8       0.75            1.0  ...  0.4       0.25     0.20         1.0\n",
              "4   0.0  0.4       0.75            1.0  ...  0.2       0.50     0.13         0.0\n",
              "\n",
              "[5 rows x 16 columns]"
            ]
          },
          "metadata": {
            "tags": []
          },
          "execution_count": 9
        }
      ]
    },
    {
      "cell_type": "markdown",
      "metadata": {
        "id": "GIrCHHJ27pDI",
        "colab_type": "text"
      },
      "source": [
        "## Splitting the data into attributes and labels to generate embeddings"
      ]
    },
    {
      "cell_type": "code",
      "metadata": {
        "id": "gPxw0Brlpv31",
        "colab_type": "code",
        "colab": {}
      },
      "source": [
        "x = hd_.iloc[:, :-1]\n",
        "y = hd_.iloc[:, -1]"
      ],
      "execution_count": 0,
      "outputs": []
    },
    {
      "cell_type": "markdown",
      "metadata": {
        "id": "6YAukyQa71Tx",
        "colab_type": "text"
      },
      "source": [
        "## Generating the new embeddings"
      ]
    },
    {
      "cell_type": "code",
      "metadata": {
        "id": "yz6P-UHhqGWJ",
        "colab_type": "code",
        "colab": {}
      },
      "source": [
        "pred = base_model.predict(x)"
      ],
      "execution_count": 0,
      "outputs": []
    },
    {
      "cell_type": "code",
      "metadata": {
        "id": "lObwsnCrrDpA",
        "colab_type": "code",
        "colab": {}
      },
      "source": [
        "x = pred"
      ],
      "execution_count": 0,
      "outputs": []
    },
    {
      "cell_type": "code",
      "metadata": {
        "id": "tp_rUEhDqN8j",
        "colab_type": "code",
        "outputId": "6e2b377f-618e-4878-939d-36da1705ba02",
        "colab": {
          "base_uri": "https://localhost:8080/",
          "height": 862
        }
      },
      "source": [
        "x[0]   # Classified as 0"
      ],
      "execution_count": 13,
      "outputs": [
        {
          "output_type": "execute_result",
          "data": {
            "text/plain": [
              "array([0.        , 0.13305795, 0.        , 0.11891481, 0.        ,\n",
              "       0.12382513, 0.        , 0.        , 0.        , 0.        ,\n",
              "       0.        , 0.        , 0.11084447, 0.        , 0.13123429,\n",
              "       0.        , 0.12455659, 0.        , 0.        , 0.        ,\n",
              "       0.        , 0.        , 0.11921414, 0.        , 0.        ,\n",
              "       0.        , 0.11872975, 0.        , 0.        , 0.        ,\n",
              "       0.        , 0.        , 0.        , 0.        , 0.        ,\n",
              "       0.1236831 , 0.        , 0.1337252 , 0.        , 0.        ,\n",
              "       0.12879127, 0.13245589, 0.        , 0.        , 0.        ,\n",
              "       0.        , 0.12222541, 0.        , 0.        , 0.        ,\n",
              "       0.11798927, 0.        , 0.13285375, 0.        , 0.13706264,\n",
              "       0.        , 0.        , 0.        , 0.12832958, 0.        ,\n",
              "       0.12142015, 0.12055948, 0.        , 0.1215591 , 0.        ,\n",
              "       0.        , 0.        , 0.        , 0.13400523, 0.        ,\n",
              "       0.        , 0.1178892 , 0.        , 0.        , 0.        ,\n",
              "       0.        , 0.        , 0.        , 0.12631263, 0.        ,\n",
              "       0.        , 0.        , 0.        , 0.        , 0.        ,\n",
              "       0.        , 0.        , 0.        , 0.        , 0.1277442 ,\n",
              "       0.        , 0.11973589, 0.        , 0.        , 0.        ,\n",
              "       0.        , 0.        , 0.        , 0.        , 0.        ,\n",
              "       0.        , 0.        , 0.        , 0.        , 0.        ,\n",
              "       0.        , 0.11485928, 0.        , 0.        , 0.        ,\n",
              "       0.        , 0.        , 0.        , 0.        , 0.        ,\n",
              "       0.11722948, 0.        , 0.        , 0.        , 0.        ,\n",
              "       0.        , 0.        , 0.        , 0.        , 0.        ,\n",
              "       0.10064396, 0.14246702, 0.        , 0.        , 0.        ,\n",
              "       0.        , 0.12026227, 0.        , 0.        , 0.12770538,\n",
              "       0.13023391, 0.        , 0.        , 0.        , 0.        ,\n",
              "       0.        , 0.        , 0.        , 0.13151865, 0.        ,\n",
              "       0.        , 0.        , 0.        , 0.12210394, 0.15392174,\n",
              "       0.        , 0.        , 0.        , 0.12619719, 0.        ,\n",
              "       0.12774307, 0.        , 0.        , 0.        , 0.        ,\n",
              "       0.        , 0.11988492, 0.        , 0.        , 0.        ,\n",
              "       0.        , 0.        , 0.        , 0.        , 0.1266932 ,\n",
              "       0.        , 0.        , 0.        , 0.        , 0.        ,\n",
              "       0.        , 0.        , 0.        , 0.        , 0.12679495,\n",
              "       0.24358892, 0.12273382, 0.13442658, 0.        , 0.14672379,\n",
              "       0.        , 0.13680513, 0.        , 0.11729185, 0.11541997,\n",
              "       0.11829057, 0.11991879, 0.        , 0.        , 0.11414617,\n",
              "       0.        , 0.        , 0.12478035, 0.12430235, 0.        ,\n",
              "       0.        , 0.13525932, 0.12056601, 0.        , 0.        ,\n",
              "       0.        , 0.        , 0.        , 0.        , 0.        ,\n",
              "       0.        , 0.        , 0.        , 0.13279212, 0.        ,\n",
              "       0.        , 0.        , 0.        , 0.        , 0.        ,\n",
              "       0.12313553, 0.11655399, 0.        , 0.        , 0.        ,\n",
              "       0.        , 0.        , 0.        , 0.        , 0.        ,\n",
              "       0.        , 0.        , 0.        , 0.11473878, 0.        ,\n",
              "       0.        , 0.        , 0.        , 0.        , 0.        ,\n",
              "       0.        , 0.        , 0.        , 0.        , 0.        ,\n",
              "       0.        , 0.1144476 , 0.        , 0.        , 0.        ,\n",
              "       0.12073085, 0.        , 0.        , 0.12032031, 0.        ,\n",
              "       0.12032519], dtype=float32)"
            ]
          },
          "metadata": {
            "tags": []
          },
          "execution_count": 13
        }
      ]
    },
    {
      "cell_type": "code",
      "metadata": {
        "id": "tAY6_xd2qPAa",
        "colab_type": "code",
        "outputId": "cb54c000-946d-4707-c168-391e84ed99ed",
        "colab": {
          "base_uri": "https://localhost:8080/",
          "height": 277
        }
      },
      "source": [
        "x[6]   # Classified as 1"
      ],
      "execution_count": 14,
      "outputs": [
        {
          "output_type": "execute_result",
          "data": {
            "text/plain": [
              "array([0., 0., 0., 0., 0., 0., 0., 0., 0., 0., 0., 0., 0., 0., 0., 0., 0.,\n",
              "       0., 0., 0., 0., 0., 0., 0., 0., 0., 0., 0., 0., 0., 0., 0., 0., 0.,\n",
              "       0., 0., 0., 0., 0., 0., 0., 0., 0., 0., 0., 0., 0., 0., 0., 0., 0.,\n",
              "       0., 0., 0., 0., 0., 0., 0., 0., 0., 0., 0., 0., 0., 0., 0., 0., 0.,\n",
              "       0., 0., 0., 0., 0., 0., 0., 0., 0., 0., 0., 0., 0., 0., 0., 0., 0.,\n",
              "       0., 0., 0., 0., 0., 0., 0., 0., 0., 0., 0., 0., 0., 0., 0., 0., 0.,\n",
              "       0., 0., 0., 0., 0., 0., 0., 0., 0., 0., 0., 0., 0., 0., 0., 0., 0.,\n",
              "       0., 0., 0., 0., 0., 0., 0., 0., 0., 0., 0., 0., 0., 0., 0., 0., 0.,\n",
              "       0., 0., 0., 0., 0., 0., 0., 0., 0., 0., 0., 0., 0., 0., 0., 0., 0.,\n",
              "       0., 0., 0., 0., 0., 0., 0., 0., 0., 0., 0., 0., 0., 0., 0., 0., 0.,\n",
              "       0., 0., 0., 0., 0., 0., 0., 0., 0., 0., 0., 0., 0., 0., 0., 0., 0.,\n",
              "       0., 0., 0., 0., 0., 0., 0., 0., 0., 0., 0., 0., 0., 0., 0., 0., 0.,\n",
              "       0., 0., 0., 0., 0., 0., 0., 0., 0., 0., 0., 0., 0., 0., 0., 0., 0.,\n",
              "       0., 0., 0., 0., 0., 0., 0., 0., 0., 0., 0., 0., 0., 0., 0., 0., 0.,\n",
              "       0., 0., 0., 0., 0., 0., 0., 0., 0., 0., 0., 0., 0., 0., 0., 0., 0.,\n",
              "       0.], dtype=float32)"
            ]
          },
          "metadata": {
            "tags": []
          },
          "execution_count": 14
        }
      ]
    },
    {
      "cell_type": "markdown",
      "metadata": {
        "id": "PuBNPLey74_m",
        "colab_type": "text"
      },
      "source": [
        "## Calculating euclidean distance to see how good the new embeddings are"
      ]
    },
    {
      "cell_type": "code",
      "metadata": {
        "id": "ncpYIg-mrgnM",
        "colab_type": "code",
        "outputId": "1c1bed0f-7486-40a9-fbfc-d3bbda1c12d3",
        "colab": {
          "base_uri": "https://localhost:8080/",
          "height": 33
        }
      },
      "source": [
        "from scipy.spatial import distance\n",
        "a = x[0] #0\n",
        "b = x[3] #1\n",
        "c = x[1] #0\n",
        "d = x[6] #1\n",
        "dst00 = distance.euclidean(a, c)\n",
        "dst01 = distance.euclidean(a, b)\n",
        "dst11 = distance.euclidean(b, d)\n",
        "print([dst00, dst01, dst11])"
      ],
      "execution_count": 15,
      "outputs": [
        {
          "output_type": "stream",
          "text": [
            "[0.005198925267904997, 1.0065116882324219, 0.0]\n"
          ],
          "name": "stdout"
        }
      ]
    },
    {
      "cell_type": "markdown",
      "metadata": {
        "id": "ToVE7sgwLpaY",
        "colab_type": "text"
      },
      "source": [
        "## Using a simple, single-layered neural network to evaluate the embeddings"
      ]
    },
    {
      "cell_type": "code",
      "metadata": {
        "id": "emc-2-x8H47x",
        "colab_type": "code",
        "colab": {}
      },
      "source": [
        "from keras import Sequential\n",
        "from keras.layers import Dense, Activation\n",
        "\n",
        "simple_classifier  = Sequential()\n",
        "\n",
        "simple_classifier.add(Dense(1, input_dim = 256, activation = 'sigmoid'))\n",
        "simple_classifier.compile(optimizer = 'Adam', loss = 'binary_crossentropy')"
      ],
      "execution_count": 0,
      "outputs": []
    },
    {
      "cell_type": "code",
      "metadata": {
        "id": "_vTQqlnlJsA0",
        "colab_type": "code",
        "colab": {}
      },
      "source": [
        "from sklearn.model_selection import StratifiedShuffleSplit\n",
        "sss = StratifiedShuffleSplit(n_splits = 1, \n",
        "                             test_size = 0.2, \n",
        "                             random_state = 1)\n",
        "attrib = np.array(x)\n",
        "lab = np.array(y)\n",
        "for train_index, test_index in sss.split(x, y):\n",
        "    x_train, x_test = attrib[train_index], attrib[test_index]\n",
        "    y_train, y_test = lab[train_index], lab[test_index]"
      ],
      "execution_count": 0,
      "outputs": []
    },
    {
      "cell_type": "markdown",
      "metadata": {
        "id": "pjDtKH06L1cb",
        "colab_type": "text"
      },
      "source": [
        "## Evaluation and results"
      ]
    },
    {
      "cell_type": "code",
      "metadata": {
        "id": "Xp3opSm2KFqv",
        "colab_type": "code",
        "colab": {}
      },
      "source": [
        "preds = simple_classifier.predict(x_test)\n",
        "preds = (preds <= 0.5)"
      ],
      "execution_count": 0,
      "outputs": []
    },
    {
      "cell_type": "code",
      "metadata": {
        "id": "o0R6YmhuKfOP",
        "colab_type": "code",
        "outputId": "a652b4b8-ef9f-4785-b1f7-4d138f761d2d",
        "colab": {
          "base_uri": "https://localhost:8080/",
          "height": 121
        }
      },
      "source": [
        "from sklearn.metrics import confusion_matrix, accuracy_score\n",
        "cm = confusion_matrix(y_test, preds)\n",
        "conf_matrix = pd.DataFrame(data = cm, \n",
        "                           columns = ['Predicted: 0', 'Predicted: 1'], \n",
        "                           index = ['Actual:0', 'Actual:1'])\n",
        "\n",
        "print('Accuracy:', accuracy_score(y_test, preds))\n",
        "conf_matrix"
      ],
      "execution_count": 19,
      "outputs": [
        {
          "output_type": "stream",
          "text": [
            "Accuracy: 0.9764150943396226\n"
          ],
          "name": "stdout"
        },
        {
          "output_type": "execute_result",
          "data": {
            "text/html": [
              "<div>\n",
              "<style scoped>\n",
              "    .dataframe tbody tr th:only-of-type {\n",
              "        vertical-align: middle;\n",
              "    }\n",
              "\n",
              "    .dataframe tbody tr th {\n",
              "        vertical-align: top;\n",
              "    }\n",
              "\n",
              "    .dataframe thead th {\n",
              "        text-align: right;\n",
              "    }\n",
              "</style>\n",
              "<table border=\"1\" class=\"dataframe\">\n",
              "  <thead>\n",
              "    <tr style=\"text-align: right;\">\n",
              "      <th></th>\n",
              "      <th>Predicted: 0</th>\n",
              "      <th>Predicted: 1</th>\n",
              "    </tr>\n",
              "  </thead>\n",
              "  <tbody>\n",
              "    <tr>\n",
              "      <th>Actual:0</th>\n",
              "      <td>713</td>\n",
              "      <td>6</td>\n",
              "    </tr>\n",
              "    <tr>\n",
              "      <th>Actual:1</th>\n",
              "      <td>14</td>\n",
              "      <td>115</td>\n",
              "    </tr>\n",
              "  </tbody>\n",
              "</table>\n",
              "</div>"
            ],
            "text/plain": [
              "          Predicted: 0  Predicted: 1\n",
              "Actual:0           713             6\n",
              "Actual:1            14           115"
            ]
          },
          "metadata": {
            "tags": []
          },
          "execution_count": 19
        }
      ]
    },
    {
      "cell_type": "code",
      "metadata": {
        "id": "ZbIpQNEtKj-U",
        "colab_type": "code",
        "outputId": "72648458-a82f-468a-f994-2dd14c83300d",
        "colab": {
          "base_uri": "https://localhost:8080/",
          "height": 163
        }
      },
      "source": [
        "from sklearn.metrics import classification_report\n",
        "\n",
        "print(classification_report(y_test, preds, labels = [0, 1]))"
      ],
      "execution_count": 20,
      "outputs": [
        {
          "output_type": "stream",
          "text": [
            "              precision    recall  f1-score   support\n",
            "\n",
            "           0       0.98      0.99      0.99       719\n",
            "           1       0.95      0.89      0.92       129\n",
            "\n",
            "    accuracy                           0.98       848\n",
            "   macro avg       0.97      0.94      0.95       848\n",
            "weighted avg       0.98      0.98      0.98       848\n",
            "\n"
          ],
          "name": "stdout"
        }
      ]
    },
    {
      "cell_type": "markdown",
      "metadata": {
        "id": "ASv203rbMOqF",
        "colab_type": "text"
      },
      "source": [
        "## Using SMOTE on the newly learned embeddings"
      ]
    },
    {
      "cell_type": "code",
      "metadata": {
        "id": "y3ziwFvOMUEW",
        "colab_type": "code",
        "outputId": "2548e169-8b7e-4dec-ff7b-e43c6580bd3b",
        "colab": {
          "base_uri": "https://localhost:8080/",
          "height": 50
        }
      },
      "source": [
        "from imblearn.over_sampling import SMOTE as smote\n",
        "smt = smote()\n",
        "x, y = smt.fit_sample(x, y)\n",
        "\n",
        "from collections import Counter\n",
        "cc = Counter(y)\n",
        "print(cc[1])\n",
        "print(cc[0])"
      ],
      "execution_count": 21,
      "outputs": [
        {
          "output_type": "stream",
          "text": [
            "3596\n",
            "3596\n"
          ],
          "name": "stdout"
        }
      ]
    },
    {
      "cell_type": "code",
      "metadata": {
        "id": "6vQMIwejOapR",
        "colab_type": "code",
        "colab": {}
      },
      "source": [
        "sss = StratifiedShuffleSplit(n_splits = 1, \n",
        "                             test_size = 0.2, \n",
        "                             random_state = 1)\n",
        "attrib = np.array(x)\n",
        "lab = np.array(y)\n",
        "for train_index, test_index in sss.split(x, y):\n",
        "    x_train, x_test = attrib[train_index], attrib[test_index]\n",
        "    y_train, y_test = lab[train_index], lab[test_index]"
      ],
      "execution_count": 0,
      "outputs": []
    },
    {
      "cell_type": "code",
      "metadata": {
        "id": "7G3k7_i1OeAE",
        "colab_type": "code",
        "colab": {}
      },
      "source": [
        "preds = simple_classifier.predict(x_test)\n",
        "preds = (preds <= 0.5)"
      ],
      "execution_count": 0,
      "outputs": []
    },
    {
      "cell_type": "code",
      "metadata": {
        "id": "_39f3_rHOvco",
        "colab_type": "code",
        "outputId": "f449ba81-f356-4d91-b48f-d9860bcb4f27",
        "colab": {
          "base_uri": "https://localhost:8080/",
          "height": 121
        }
      },
      "source": [
        "from sklearn.metrics import confusion_matrix, accuracy_score\n",
        "cm = confusion_matrix(y_test, preds)\n",
        "conf_matrix = pd.DataFrame(data = cm, \n",
        "                           columns = ['Predicted: 0', 'Predicted: 1'], \n",
        "                           index = ['Actual:0', 'Actual:1'])\n",
        "\n",
        "print('Accuracy:', accuracy_score(y_test, preds))\n",
        "conf_matrix"
      ],
      "execution_count": 24,
      "outputs": [
        {
          "output_type": "stream",
          "text": [
            "Accuracy: 0.9325920778318276\n"
          ],
          "name": "stdout"
        },
        {
          "output_type": "execute_result",
          "data": {
            "text/html": [
              "<div>\n",
              "<style scoped>\n",
              "    .dataframe tbody tr th:only-of-type {\n",
              "        vertical-align: middle;\n",
              "    }\n",
              "\n",
              "    .dataframe tbody tr th {\n",
              "        vertical-align: top;\n",
              "    }\n",
              "\n",
              "    .dataframe thead th {\n",
              "        text-align: right;\n",
              "    }\n",
              "</style>\n",
              "<table border=\"1\" class=\"dataframe\">\n",
              "  <thead>\n",
              "    <tr style=\"text-align: right;\">\n",
              "      <th></th>\n",
              "      <th>Predicted: 0</th>\n",
              "      <th>Predicted: 1</th>\n",
              "    </tr>\n",
              "  </thead>\n",
              "  <tbody>\n",
              "    <tr>\n",
              "      <th>Actual:0</th>\n",
              "      <td>713</td>\n",
              "      <td>6</td>\n",
              "    </tr>\n",
              "    <tr>\n",
              "      <th>Actual:1</th>\n",
              "      <td>91</td>\n",
              "      <td>629</td>\n",
              "    </tr>\n",
              "  </tbody>\n",
              "</table>\n",
              "</div>"
            ],
            "text/plain": [
              "          Predicted: 0  Predicted: 1\n",
              "Actual:0           713             6\n",
              "Actual:1            91           629"
            ]
          },
          "metadata": {
            "tags": []
          },
          "execution_count": 24
        }
      ]
    },
    {
      "cell_type": "code",
      "metadata": {
        "id": "BhkyByMPOyJj",
        "colab_type": "code",
        "outputId": "96e171ad-d556-4f23-dcaa-d7fcab809390",
        "colab": {
          "base_uri": "https://localhost:8080/",
          "height": 163
        }
      },
      "source": [
        "print(classification_report(y_test, preds, labels = [0, 1]))"
      ],
      "execution_count": 25,
      "outputs": [
        {
          "output_type": "stream",
          "text": [
            "              precision    recall  f1-score   support\n",
            "\n",
            "           0       0.89      0.99      0.94       719\n",
            "           1       0.99      0.87      0.93       720\n",
            "\n",
            "    accuracy                           0.93      1439\n",
            "   macro avg       0.94      0.93      0.93      1439\n",
            "weighted avg       0.94      0.93      0.93      1439\n",
            "\n"
          ],
          "name": "stdout"
        }
      ]
    },
    {
      "cell_type": "markdown",
      "metadata": {
        "id": "rXiBKgPhPv14",
        "colab_type": "text"
      },
      "source": [
        "## Using the synthetically generated data, we build and train a new network for classification"
      ]
    },
    {
      "cell_type": "code",
      "metadata": {
        "id": "W9aB2ZPkQKg7",
        "colab_type": "code",
        "outputId": "084639d2-2ee5-4f55-dd08-666c969edacd",
        "colab": {
          "base_uri": "https://localhost:8080/",
          "height": 391
        }
      },
      "source": [
        "from keras.layers import Dropout\n",
        "\n",
        "model = Sequential()\n",
        "\n",
        "model.add(Dense(2048, input_dim = 256)) \n",
        "model.add(Activation('relu', name = 'A1'))\n",
        "model.add(Dropout(0.1))\n",
        "model.add(Dense(2048, input_dim = 256)) \n",
        "model.add(Activation('relu', name = 'A2'))\n",
        "model.add(Dropout(0.1))\n",
        "model.add(Dense(1))\n",
        "model.add(Activation('sigmoid'))\n",
        "\n",
        "model.compile(optimizer = 'Adam', loss = 'binary_crossentropy', metrics = ['accuracy'])\n",
        "\n",
        "model.summary()"
      ],
      "execution_count": 26,
      "outputs": [
        {
          "output_type": "stream",
          "text": [
            "_________________________________________________________________\n",
            "Layer (type)                 Output Shape              Param #   \n",
            "=================================================================\n",
            "dense_2 (Dense)              (None, 2048)              526336    \n",
            "_________________________________________________________________\n",
            "A1 (Activation)              (None, 2048)              0         \n",
            "_________________________________________________________________\n",
            "dropout_1 (Dropout)          (None, 2048)              0         \n",
            "_________________________________________________________________\n",
            "dense_3 (Dense)              (None, 2048)              4196352   \n",
            "_________________________________________________________________\n",
            "A2 (Activation)              (None, 2048)              0         \n",
            "_________________________________________________________________\n",
            "dropout_2 (Dropout)          (None, 2048)              0         \n",
            "_________________________________________________________________\n",
            "dense_4 (Dense)              (None, 1)                 2049      \n",
            "_________________________________________________________________\n",
            "activation_1 (Activation)    (None, 1)                 0         \n",
            "=================================================================\n",
            "Total params: 4,724,737\n",
            "Trainable params: 4,724,737\n",
            "Non-trainable params: 0\n",
            "_________________________________________________________________\n"
          ],
          "name": "stdout"
        }
      ]
    },
    {
      "cell_type": "code",
      "metadata": {
        "id": "KKGP5rJoRFp7",
        "colab_type": "code",
        "colab": {}
      },
      "source": [
        "sss = StratifiedShuffleSplit(n_splits = 1, \n",
        "                             test_size = 0.2, \n",
        "                             random_state = 1)\n",
        "attrib = np.array(x)\n",
        "lab = np.array(y)\n",
        "for train_index, test_index in sss.split(x, y):\n",
        "    x_train, x_test = attrib[train_index], attrib[test_index]\n",
        "    y_train, y_test = lab[train_index], lab[test_index]"
      ],
      "execution_count": 0,
      "outputs": []
    },
    {
      "cell_type": "code",
      "metadata": {
        "id": "qnUWIuZ3RKF2",
        "colab_type": "code",
        "colab": {}
      },
      "source": [
        "def stats_avg(history, i):\n",
        "    val_acc = np.array(history.history['val_acc'])\n",
        "    val_loss = np.array(history.history['val_loss'])\n",
        "    model_acc = np.array(history.history['acc'])\n",
        "    model_loss = np.array(history.history['loss'])\n",
        "    print('\\n\\nAverage validation loss:', val_loss.sum()/i)\n",
        "    print('Average validation accuracy:', val_acc.sum()/i)\n",
        "    print('Average loss:', model_loss.sum()/i)\n",
        "    print('Average accuracy:', model_acc.sum()/i)\n",
        "    print('\\n')\n",
        "\n",
        "def plots(history):\n",
        "    plt.plot(history.history['acc'])\n",
        "    plt.plot(history.history['val_acc'])\n",
        "    plt.title('Model accuracy')\n",
        "    plt.ylabel('Accuracy')\n",
        "    plt.xlabel('Epoch')\n",
        "    plt.legend(['Train', 'Test'], loc='upper left')\n",
        "    plt.show()\n",
        "    plt.plot(history.history['loss'])\n",
        "    plt.plot(history.history['val_loss'])\n",
        "    plt.title('Model loss')\n",
        "    plt.ylabel('Loss')\n",
        "    plt.xlabel('Epoch')\n",
        "    plt.legend(['Train', 'Test'], loc='upper left')\n",
        "    plt.show()"
      ],
      "execution_count": 0,
      "outputs": []
    },
    {
      "cell_type": "code",
      "metadata": {
        "id": "0kcohRltRaCx",
        "colab_type": "code",
        "outputId": "85a1494b-7cd2-4f34-b48a-302d29bd2b77",
        "colab": {
          "base_uri": "https://localhost:8080/",
          "height": 1112
        }
      },
      "source": [
        "history = model.fit(x_train, y_train, \n",
        "          validation_split = 0.25, \n",
        "          batch_size = 256, \n",
        "          epochs = 10,\n",
        "          verbose = 1)\n",
        "stats_avg(history, i = 10)\n",
        "plots(history)"
      ],
      "execution_count": 29,
      "outputs": [
        {
          "output_type": "stream",
          "text": [
            "WARNING:tensorflow:From /usr/local/lib/python3.6/dist-packages/tensorflow/python/ops/math_ops.py:3066: to_int32 (from tensorflow.python.ops.math_ops) is deprecated and will be removed in a future version.\n",
            "Instructions for updating:\n",
            "Use tf.cast instead.\n",
            "Train on 4314 samples, validate on 1439 samples\n",
            "Epoch 1/10\n",
            "4314/4314 [==============================] - 1s 217us/step - loss: 0.4012 - acc: 0.8660 - val_loss: 0.2178 - val_acc: 0.9611\n",
            "Epoch 2/10\n",
            "4314/4314 [==============================] - 0s 65us/step - loss: 0.1481 - acc: 0.9692 - val_loss: 0.1322 - val_acc: 0.9694\n",
            "Epoch 3/10\n",
            "4314/4314 [==============================] - 0s 58us/step - loss: 0.1308 - acc: 0.9694 - val_loss: 0.1273 - val_acc: 0.9673\n",
            "Epoch 4/10\n",
            "4314/4314 [==============================] - 0s 61us/step - loss: 0.1276 - acc: 0.9685 - val_loss: 0.1322 - val_acc: 0.9666\n",
            "Epoch 5/10\n",
            "4314/4314 [==============================] - 0s 56us/step - loss: 0.1255 - acc: 0.9699 - val_loss: 0.1465 - val_acc: 0.9646\n",
            "Epoch 6/10\n",
            "4314/4314 [==============================] - 0s 56us/step - loss: 0.1318 - acc: 0.9669 - val_loss: 0.1332 - val_acc: 0.9673\n",
            "Epoch 7/10\n",
            "4314/4314 [==============================] - 0s 55us/step - loss: 0.1225 - acc: 0.9689 - val_loss: 0.1265 - val_acc: 0.9673\n",
            "Epoch 8/10\n",
            "4314/4314 [==============================] - 0s 55us/step - loss: 0.1204 - acc: 0.9694 - val_loss: 0.1264 - val_acc: 0.9673\n",
            "Epoch 9/10\n",
            "4314/4314 [==============================] - 0s 56us/step - loss: 0.1205 - acc: 0.9692 - val_loss: 0.1250 - val_acc: 0.9673\n",
            "Epoch 10/10\n",
            "4314/4314 [==============================] - 0s 55us/step - loss: 0.1184 - acc: 0.9692 - val_loss: 0.1269 - val_acc: 0.9673\n",
            "\n",
            "\n",
            "Average validation loss: 0.13939484533044177\n",
            "Average validation accuracy: 0.9665740070200529\n",
            "Average loss: 0.1546995252194673\n",
            "Average accuracy: 0.9586462677630442\n",
            "\n",
            "\n"
          ],
          "name": "stdout"
        },
        {
          "output_type": "display_data",
          "data": {
            "image/png": "[encoded data removed]",
            "text/plain": [
              "<Figure size 432x288 with 1 Axes>"
            ]
          },
          "metadata": {
            "tags": []
          }
        },
        {
          "output_type": "display_data",
          "data": {
            "image/png": "[encoded data removed]",
            "text/plain": [
              "<Figure size 432x288 with 1 Axes>"
            ]
          },
          "metadata": {
            "tags": []
          }
        }
      ]
    },
    {
      "cell_type": "code",
      "metadata": {
        "id": "_bWIkjTAWwi7",
        "colab_type": "code",
        "outputId": "dc3508c0-4fb4-4ca9-a50b-41b848f206e0",
        "colab": {
          "base_uri": "https://localhost:8080/",
          "height": 66
        }
      },
      "source": [
        "evaluation = model.evaluate(x_train, y_train)\n",
        "print('Loss:', evaluation[0])\n",
        "print('Accuracy:', evaluation[1])"
      ],
      "execution_count": 30,
      "outputs": [
        {
          "output_type": "stream",
          "text": [
            "5753/5753 [==============================] - 0s 60us/step\n",
            "Loss: 0.11863644933433258\n",
            "Accuracy: 0.968885798620469\n"
          ],
          "name": "stdout"
        }
      ]
    },
    {
      "cell_type": "code",
      "metadata": {
        "id": "Me2gYlk8Rmhm",
        "colab_type": "code",
        "colab": {}
      },
      "source": [
        "preds = model.predict(x_test)\n",
        "preds = (preds >= 0.5)"
      ],
      "execution_count": 0,
      "outputs": []
    },
    {
      "cell_type": "code",
      "metadata": {
        "id": "w42-h-b4Sj2v",
        "colab_type": "code",
        "outputId": "9393b8d9-e1bc-483c-dcb6-80c5487b418e",
        "colab": {
          "base_uri": "https://localhost:8080/",
          "height": 121
        }
      },
      "source": [
        "from sklearn.metrics import confusion_matrix, accuracy_score\n",
        "cm = confusion_matrix(y_test, preds)\n",
        "conf_matrix = pd.DataFrame(data = cm, \n",
        "                           columns = ['Predicted: 0', 'Predicted: 1'], \n",
        "                           index = ['Actual:0', 'Actual:1'])\n",
        "\n",
        "print('Accuracy:', accuracy_score(y_test, preds))\n",
        "conf_matrix"
      ],
      "execution_count": 32,
      "outputs": [
        {
          "output_type": "stream",
          "text": [
            "Accuracy: 0.9555246699096595\n"
          ],
          "name": "stdout"
        },
        {
          "output_type": "execute_result",
          "data": {
            "text/html": [
              "<div>\n",
              "<style scoped>\n",
              "    .dataframe tbody tr th:only-of-type {\n",
              "        vertical-align: middle;\n",
              "    }\n",
              "\n",
              "    .dataframe tbody tr th {\n",
              "        vertical-align: top;\n",
              "    }\n",
              "\n",
              "    .dataframe thead th {\n",
              "        text-align: right;\n",
              "    }\n",
              "</style>\n",
              "<table border=\"1\" class=\"dataframe\">\n",
              "  <thead>\n",
              "    <tr style=\"text-align: right;\">\n",
              "      <th></th>\n",
              "      <th>Predicted: 0</th>\n",
              "      <th>Predicted: 1</th>\n",
              "    </tr>\n",
              "  </thead>\n",
              "  <tbody>\n",
              "    <tr>\n",
              "      <th>Actual:0</th>\n",
              "      <td>706</td>\n",
              "      <td>13</td>\n",
              "    </tr>\n",
              "    <tr>\n",
              "      <th>Actual:1</th>\n",
              "      <td>51</td>\n",
              "      <td>669</td>\n",
              "    </tr>\n",
              "  </tbody>\n",
              "</table>\n",
              "</div>"
            ],
            "text/plain": [
              "          Predicted: 0  Predicted: 1\n",
              "Actual:0           706            13\n",
              "Actual:1            51           669"
            ]
          },
          "metadata": {
            "tags": []
          },
          "execution_count": 32
        }
      ]
    },
    {
      "cell_type": "code",
      "metadata": {
        "id": "vbkc8Zx0Sm_D",
        "colab_type": "code",
        "outputId": "a234410e-e3e8-4fe0-b3b7-b275dac400e4",
        "colab": {
          "base_uri": "https://localhost:8080/",
          "height": 163
        }
      },
      "source": [
        "print(classification_report(y_test, preds, labels = [0, 1]))"
      ],
      "execution_count": 33,
      "outputs": [
        {
          "output_type": "stream",
          "text": [
            "              precision    recall  f1-score   support\n",
            "\n",
            "           0       0.93      0.98      0.96       719\n",
            "           1       0.98      0.93      0.95       720\n",
            "\n",
            "    accuracy                           0.96      1439\n",
            "   macro avg       0.96      0.96      0.96      1439\n",
            "weighted avg       0.96      0.96      0.96      1439\n",
            "\n"
          ],
          "name": "stdout"
        }
      ]
    }
  ]
}