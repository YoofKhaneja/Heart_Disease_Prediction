{
  "nbformat": 4,
  "nbformat_minor": 0,
  "metadata": {
    "colab": {
      "name": "NN2.ipynb",
      "version": "0.3.2",
      "provenance": [],
      "collapsed_sections": []
    },
    "language_info": {
      "codemirror_mode": {
        "name": "ipython",
        "version": 3
      },
      "file_extension": ".py",
      "mimetype": "text/x-python",
      "name": "python",
      "nbconvert_exporter": "python",
      "pygments_lexer": "ipython3",
      "version": "3.7.3"
    },
    "kernelspec": {
      "name": "python3",
      "display_name": "Python 3"
    },
    "accelerator": "GPU"
  },
  "cells": [
    {
      "cell_type": "code",
      "metadata": {
        "id": "QrhH7SdpmQtI",
        "colab_type": "code",
        "colab": {}
      },
      "source": [
        "import numpy as np\n",
        "import pandas as pd\n",
        "import warnings\n",
        "warnings.filterwarnings(\"ignore\")"
      ],
      "execution_count": 0,
      "outputs": []
    },
    {
      "cell_type": "code",
      "metadata": {
        "id": "9DPM83AbR42Z",
        "colab_type": "code",
        "colab": {}
      },
      "source": [
        "from numpy.random import seed\n",
        "seed(1)\n",
        "from tensorflow import set_random_seed\n",
        "set_random_seed(2)"
      ],
      "execution_count": 0,
      "outputs": []
    },
    {
      "cell_type": "code",
      "metadata": {
        "id": "QGvYnSCvnbds",
        "colab_type": "code",
        "outputId": "9cb80078-21d3-49c8-f5c6-9cf99190e35a",
        "colab": {
          "resources": {
            "http://localhost:8080/nbextensions/google.colab/files.js": {
              "data": "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",
              "ok": true,
              "headers": [
                [
                  "content-type",
                  "application/javascript"
                ]
              ],
              "status": 200,
              "status_text": ""
            }
          },
          "base_uri": "https://localhost:8080/",
          "height": 74
        }
      },
      "source": [
        "from google.colab import files\n",
        "uploaded = files.upload()"
      ],
      "execution_count": 3,
      "outputs": [
        {
          "output_type": "display_data",
          "data": {
            "text/html": [
              "\n",
              "     <input type=\"file\" id=\"files-49a596c0-5f42-4e0a-82a7-3228131bbdeb\" name=\"files[]\" multiple disabled />\n",
              "     <output id=\"result-49a596c0-5f42-4e0a-82a7-3228131bbdeb\">\n",
              "      Upload widget is only available when the cell has been executed in the\n",
              "      current browser session. Please rerun this cell to enable.\n",
              "      </output>\n",
              "      <script src=\"/nbextensions/google.colab/files.js\"></script> "
            ],
            "text/plain": [
              "<IPython.core.display.HTML object>"
            ]
          },
          "metadata": {
            "tags": []
          }
        },
        {
          "output_type": "stream",
          "text": [
            "Saving framingham.csv to framingham (3).csv\n"
          ],
          "name": "stdout"
        }
      ]
    },
    {
      "cell_type": "code",
      "metadata": {
        "id": "M9nGMyCRmQtM",
        "colab_type": "code",
        "outputId": "17b784cd-a2cc-4a86-9061-aa273ceb216c",
        "colab": {
          "base_uri": "https://localhost:8080/",
          "height": 52
        }
      },
      "source": [
        "import io\n",
        "hd = pd.read_csv(io.BytesIO(uploaded['framingham.csv']))\n",
        "print(hd[hd['TenYearCHD'] == 1].shape[0])\n",
        "print(hd[hd['TenYearCHD'] == 0].shape[0])\n",
        "hd.drop(['education'], \n",
        "        axis = 1, \n",
        "        inplace = True)\n",
        "hd.dropna(axis = 0, \n",
        "          inplace = True)\n",
        "attrib = hd.iloc[:, :-1]\n",
        "lab = hd.iloc[:, -1]"
      ],
      "execution_count": 4,
      "outputs": [
        {
          "output_type": "stream",
          "text": [
            "644\n",
            "3596\n"
          ],
          "name": "stdout"
        }
      ]
    },
    {
      "cell_type": "code",
      "metadata": {
        "id": "ZR8e1vgxm8Fg",
        "colab_type": "code",
        "colab": {}
      },
      "source": [
        "from sklearn.model_selection import train_test_split\n",
        "x_train, x_test, y_train, y_test = train_test_split(attrib, lab, \n",
        "                                                    test_size = .20, \n",
        "                                                    random_state = 0)\n"
      ],
      "execution_count": 0,
      "outputs": []
    },
    {
      "cell_type": "code",
      "metadata": {
        "id": "jFe9g_cbmQtY",
        "colab_type": "code",
        "outputId": "0cc1bd2e-ae72-44e5-84ee-e9cc25cba1d2",
        "colab": {
          "base_uri": "https://localhost:8080/",
          "height": 158
        }
      },
      "source": [
        "from keras import Sequential, regularizers\n",
        "from keras.layers import Dense, Activation, Dropout\n",
        "model = Sequential()\n",
        "model.add(Dense(200, input_dim = 14,\n",
        "                kernel_initializer = 'random_normal', \n",
        "                bias_initializer = 'ones'))\n",
        "                #activity_regularizer = regularizers.l2(0.001))) \n",
        "                #kernel_regularizer = regularizers.l1(0.01)))\n",
        "                #bias_regularizer = regularizers.l1(0.01)))\n",
        "model.add(Dropout(0.2))\n",
        "model.add(Activation('relu', name = 'A1'))\n",
        "model.add(Dense(200,\n",
        "                kernel_initializer = 'random_normal', \n",
        "                bias_initializer = 'ones'))\n",
        "                #activity_regularizer = regularizers.l2(0.001)))\n",
        "                #kernel_regularizer = regularizers.l1(0.001))) \n",
        "                #bias_regularizer = regularizers.l1(0.01)))\n",
        "model.add(Dropout(0.2))\n",
        "model.add(Activation('relu', name = 'A2'))\n",
        "model.add(Dense(1,\n",
        "                kernel_initializer = 'random_normal', \n",
        "                bias_initializer = 'ones'))\n",
        "                #activity_regularizer = regularizers.l2(0.01)))\n",
        "                #kernel_regularizer = regularizers.l1(0.001))) \n",
        "                #bias_regularizer = regularizers.l1(0.001)))\n",
        "model.add(Dropout(0.2))\n",
        "model.add(Activation('sigmoid'))"
      ],
      "execution_count": 6,
      "outputs": [
        {
          "output_type": "stream",
          "text": [
            "WARNING:tensorflow:From /usr/local/lib/python3.6/dist-packages/tensorflow/python/framework/op_def_library.py:263: colocate_with (from tensorflow.python.framework.ops) is deprecated and will be removed in a future version.\n",
            "Instructions for updating:\n",
            "Colocations handled automatically by placer.\n",
            "WARNING:tensorflow:From /usr/local/lib/python3.6/dist-packages/keras/backend/tensorflow_backend.py:3445: calling dropout (from tensorflow.python.ops.nn_ops) with keep_prob is deprecated and will be removed in a future version.\n",
            "Instructions for updating:\n",
            "Please use `rate` instead of `keep_prob`. Rate should be set to `rate = 1 - keep_prob`.\n"
          ],
          "name": "stdout"
        },
        {
          "output_type": "stream",
          "text": [
            "Using TensorFlow backend.\n"
          ],
          "name": "stderr"
        }
      ]
    },
    {
      "cell_type": "code",
      "metadata": {
        "id": "jHQb1b1umQte",
        "colab_type": "code",
        "outputId": "ede6fd38-6b4d-4d34-d4fd-6a8b9ad68542",
        "colab": {
          "base_uri": "https://localhost:8080/",
          "height": 450
        }
      },
      "source": [
        "from keras import optimizers\n",
        "#adam = optimizers.Adam(lr = 0.01)\n",
        "model.compile(optimizer = 'Adam', \n",
        "              loss = 'binary_crossentropy', \n",
        "              metrics = ['accuracy'])\n",
        "model.summary()"
      ],
      "execution_count": 7,
      "outputs": [
        {
          "output_type": "stream",
          "text": [
            "_________________________________________________________________\n",
            "Layer (type)                 Output Shape              Param #   \n",
            "=================================================================\n",
            "dense_1 (Dense)              (None, 200)               3000      \n",
            "_________________________________________________________________\n",
            "dropout_1 (Dropout)          (None, 200)               0         \n",
            "_________________________________________________________________\n",
            "A1 (Activation)              (None, 200)               0         \n",
            "_________________________________________________________________\n",
            "dense_2 (Dense)              (None, 200)               40200     \n",
            "_________________________________________________________________\n",
            "dropout_2 (Dropout)          (None, 200)               0         \n",
            "_________________________________________________________________\n",
            "A2 (Activation)              (None, 200)               0         \n",
            "_________________________________________________________________\n",
            "dense_3 (Dense)              (None, 1)                 201       \n",
            "_________________________________________________________________\n",
            "dropout_3 (Dropout)          (None, 1)                 0         \n",
            "_________________________________________________________________\n",
            "activation_1 (Activation)    (None, 1)                 0         \n",
            "=================================================================\n",
            "Total params: 43,401\n",
            "Trainable params: 43,401\n",
            "Non-trainable params: 0\n",
            "_________________________________________________________________\n"
          ],
          "name": "stdout"
        }
      ]
    },
    {
      "cell_type": "code",
      "metadata": {
        "id": "T--9MranmQti",
        "colab_type": "code",
        "outputId": "010fd206-bf02-4306-b053-a0f5292228e9",
        "colab": {
          "base_uri": "https://localhost:8080/",
          "height": 3553
        }
      },
      "source": [
        "from keras.callbacks import ReduceLROnPlateau\n",
        "reduce_lr = ReduceLROnPlateau(monitor = 'val_acc', \n",
        "                              factor = 0.5,\n",
        "                              patience = 1, min_lr = 0.0001)\n",
        "class_weights = {0: 1.0, 1: 6.0}\n",
        "history1 = model.fit(x_train, y_train, \n",
        "          validation_split = 0.25, \n",
        "          batch_size = 20, \n",
        "          epochs = 100,\n",
        "          verbose = 1,\n",
        "          callbacks = [reduce_lr],\n",
        "          class_weight = class_weights)"
      ],
      "execution_count": 8,
      "outputs": [
        {
          "output_type": "stream",
          "text": [
            "WARNING:tensorflow:From /usr/local/lib/python3.6/dist-packages/tensorflow/python/ops/math_ops.py:3066: to_int32 (from tensorflow.python.ops.math_ops) is deprecated and will be removed in a future version.\n",
            "Instructions for updating:\n",
            "Use tf.cast instead.\n",
            "Train on 2250 samples, validate on 750 samples\n",
            "Epoch 1/100\n",
            "2250/2250 [==============================] - 2s 691us/step - loss: 2.3485 - acc: 0.5480 - val_loss: 1.1990 - val_acc: 0.6627\n",
            "Epoch 2/100\n",
            "2250/2250 [==============================] - 0s 175us/step - loss: 1.3368 - acc: 0.5716 - val_loss: 1.2251 - val_acc: 0.4147\n",
            "Epoch 3/100\n",
            "2250/2250 [==============================] - 0s 175us/step - loss: 1.2668 - acc: 0.5667 - val_loss: 1.2000 - val_acc: 0.5440\n",
            "Epoch 4/100\n",
            "2250/2250 [==============================] - 0s 182us/step - loss: 1.2284 - acc: 0.5644 - val_loss: 1.2084 - val_acc: 0.1773\n",
            "Epoch 5/100\n",
            "2250/2250 [==============================] - 0s 181us/step - loss: 1.2257 - acc: 0.5484 - val_loss: 1.1756 - val_acc: 0.3707\n",
            "Epoch 6/100\n",
            "2250/2250 [==============================] - 0s 173us/step - loss: 1.2447 - acc: 0.5689 - val_loss: 1.1816 - val_acc: 0.3360\n",
            "Epoch 7/100\n",
            "2250/2250 [==============================] - 0s 176us/step - loss: 1.2155 - acc: 0.5827 - val_loss: 1.1849 - val_acc: 0.3240\n",
            "Epoch 8/100\n",
            "2250/2250 [==============================] - 0s 178us/step - loss: 1.2018 - acc: 0.5658 - val_loss: 1.1720 - val_acc: 0.4280\n",
            "Epoch 9/100\n",
            "2250/2250 [==============================] - 0s 175us/step - loss: 1.2107 - acc: 0.5676 - val_loss: 1.1708 - val_acc: 0.6373\n",
            "Epoch 10/100\n",
            "2250/2250 [==============================] - 0s 178us/step - loss: 1.2047 - acc: 0.5871 - val_loss: 1.1685 - val_acc: 0.5027\n",
            "Epoch 11/100\n",
            "2250/2250 [==============================] - 0s 175us/step - loss: 1.1930 - acc: 0.6084 - val_loss: 1.1824 - val_acc: 0.3187\n",
            "Epoch 12/100\n",
            "2250/2250 [==============================] - 0s 174us/step - loss: 1.1956 - acc: 0.6071 - val_loss: 1.1742 - val_acc: 0.3867\n",
            "Epoch 13/100\n",
            "2250/2250 [==============================] - 0s 177us/step - loss: 1.1872 - acc: 0.6191 - val_loss: 1.1690 - val_acc: 0.4187\n",
            "Epoch 14/100\n",
            "2250/2250 [==============================] - 0s 177us/step - loss: 1.1945 - acc: 0.6058 - val_loss: 1.1633 - val_acc: 0.4333\n",
            "Epoch 15/100\n",
            "2250/2250 [==============================] - 0s 185us/step - loss: 1.1947 - acc: 0.6244 - val_loss: 1.1599 - val_acc: 0.5133\n",
            "Epoch 16/100\n",
            "2250/2250 [==============================] - 0s 177us/step - loss: 1.2093 - acc: 0.5813 - val_loss: 1.1602 - val_acc: 0.5453\n",
            "Epoch 17/100\n",
            "2250/2250 [==============================] - 0s 182us/step - loss: 1.1958 - acc: 0.5898 - val_loss: 1.1726 - val_acc: 0.3667\n",
            "Epoch 18/100\n",
            "2250/2250 [==============================] - 0s 183us/step - loss: 1.1758 - acc: 0.6271 - val_loss: 1.1592 - val_acc: 0.5120\n",
            "Epoch 19/100\n",
            "2250/2250 [==============================] - 0s 177us/step - loss: 1.1884 - acc: 0.6191 - val_loss: 1.1761 - val_acc: 0.3707\n",
            "Epoch 20/100\n",
            "2250/2250 [==============================] - 0s 183us/step - loss: 1.1716 - acc: 0.6222 - val_loss: 1.1610 - val_acc: 0.5867\n",
            "Epoch 21/100\n",
            "2250/2250 [==============================] - 0s 175us/step - loss: 1.1733 - acc: 0.6240 - val_loss: 1.1632 - val_acc: 0.6573\n",
            "Epoch 22/100\n",
            "2250/2250 [==============================] - 0s 177us/step - loss: 1.1793 - acc: 0.6209 - val_loss: 1.1584 - val_acc: 0.5147\n",
            "Epoch 23/100\n",
            "2250/2250 [==============================] - 0s 177us/step - loss: 1.1660 - acc: 0.6098 - val_loss: 1.1614 - val_acc: 0.4920\n",
            "Epoch 24/100\n",
            "2250/2250 [==============================] - 0s 174us/step - loss: 1.1861 - acc: 0.6151 - val_loss: 1.1622 - val_acc: 0.4720\n",
            "Epoch 25/100\n",
            "2250/2250 [==============================] - 0s 178us/step - loss: 1.1702 - acc: 0.6240 - val_loss: 1.1551 - val_acc: 0.4987\n",
            "Epoch 26/100\n",
            "2250/2250 [==============================] - 0s 175us/step - loss: 1.1947 - acc: 0.6293 - val_loss: 1.1640 - val_acc: 0.4293\n",
            "Epoch 27/100\n",
            "2250/2250 [==============================] - 0s 180us/step - loss: 1.1557 - acc: 0.6302 - val_loss: 1.1552 - val_acc: 0.5320\n",
            "Epoch 28/100\n",
            "2250/2250 [==============================] - 0s 180us/step - loss: 1.1822 - acc: 0.6124 - val_loss: 1.1533 - val_acc: 0.5200\n",
            "Epoch 29/100\n",
            "2250/2250 [==============================] - 0s 175us/step - loss: 1.1619 - acc: 0.6524 - val_loss: 1.1545 - val_acc: 0.5547\n",
            "Epoch 30/100\n",
            "2250/2250 [==============================] - 0s 181us/step - loss: 1.1597 - acc: 0.6324 - val_loss: 1.1544 - val_acc: 0.5493\n",
            "Epoch 31/100\n",
            "2250/2250 [==============================] - 0s 179us/step - loss: 1.1640 - acc: 0.6231 - val_loss: 1.1594 - val_acc: 0.6360\n",
            "Epoch 32/100\n",
            "2250/2250 [==============================] - 0s 177us/step - loss: 1.1687 - acc: 0.6427 - val_loss: 1.1607 - val_acc: 0.4587\n",
            "Epoch 33/100\n",
            "2250/2250 [==============================] - 0s 182us/step - loss: 1.1573 - acc: 0.6418 - val_loss: 1.1527 - val_acc: 0.5840\n",
            "Epoch 34/100\n",
            "2250/2250 [==============================] - 0s 175us/step - loss: 1.1604 - acc: 0.6338 - val_loss: 1.1742 - val_acc: 0.3893\n",
            "Epoch 35/100\n",
            "2250/2250 [==============================] - 0s 178us/step - loss: 1.1739 - acc: 0.6076 - val_loss: 1.1568 - val_acc: 0.4867\n",
            "Epoch 36/100\n",
            "2250/2250 [==============================] - 0s 176us/step - loss: 1.1625 - acc: 0.6298 - val_loss: 1.1467 - val_acc: 0.5453\n",
            "Epoch 37/100\n",
            "2250/2250 [==============================] - 0s 175us/step - loss: 1.1407 - acc: 0.6684 - val_loss: 1.1756 - val_acc: 0.4107\n",
            "Epoch 38/100\n",
            "2250/2250 [==============================] - 0s 177us/step - loss: 1.1585 - acc: 0.6209 - val_loss: 1.1453 - val_acc: 0.5973\n",
            "Epoch 39/100\n",
            "2250/2250 [==============================] - 0s 173us/step - loss: 1.1620 - acc: 0.6560 - val_loss: 1.1461 - val_acc: 0.5800\n",
            "Epoch 40/100\n",
            "2250/2250 [==============================] - 0s 180us/step - loss: 1.1634 - acc: 0.6311 - val_loss: 1.1516 - val_acc: 0.5640\n",
            "Epoch 41/100\n",
            "2250/2250 [==============================] - 0s 177us/step - loss: 1.1482 - acc: 0.6524 - val_loss: 1.1654 - val_acc: 0.4520\n",
            "Epoch 42/100\n",
            "2250/2250 [==============================] - 0s 174us/step - loss: 1.1598 - acc: 0.6249 - val_loss: 1.1583 - val_acc: 0.5040\n",
            "Epoch 43/100\n",
            "2250/2250 [==============================] - 0s 186us/step - loss: 1.1368 - acc: 0.6609 - val_loss: 1.1477 - val_acc: 0.6093\n",
            "Epoch 44/100\n",
            "2250/2250 [==============================] - 0s 174us/step - loss: 1.1726 - acc: 0.6413 - val_loss: 1.1660 - val_acc: 0.4347\n",
            "Epoch 45/100\n",
            "2250/2250 [==============================] - 0s 173us/step - loss: 1.1482 - acc: 0.6178 - val_loss: 1.1437 - val_acc: 0.5773\n",
            "Epoch 46/100\n",
            "2250/2250 [==============================] - 0s 177us/step - loss: 1.1436 - acc: 0.6338 - val_loss: 1.1539 - val_acc: 0.5627\n",
            "Epoch 47/100\n",
            "2250/2250 [==============================] - 0s 175us/step - loss: 1.1406 - acc: 0.6320 - val_loss: 1.1451 - val_acc: 0.6213\n",
            "Epoch 48/100\n",
            "2250/2250 [==============================] - 0s 182us/step - loss: 1.1430 - acc: 0.6498 - val_loss: 1.1475 - val_acc: 0.6147\n",
            "Epoch 49/100\n",
            "2250/2250 [==============================] - 0s 176us/step - loss: 1.1395 - acc: 0.6613 - val_loss: 1.1485 - val_acc: 0.6280\n",
            "Epoch 50/100\n",
            "2250/2250 [==============================] - 0s 175us/step - loss: 1.1399 - acc: 0.6627 - val_loss: 1.1429 - val_acc: 0.5867\n",
            "Epoch 51/100\n",
            "2250/2250 [==============================] - 0s 175us/step - loss: 1.1451 - acc: 0.6720 - val_loss: 1.1583 - val_acc: 0.5280\n",
            "Epoch 52/100\n",
            "2250/2250 [==============================] - 0s 174us/step - loss: 1.1445 - acc: 0.6409 - val_loss: 1.1580 - val_acc: 0.4547\n",
            "Epoch 53/100\n",
            "2250/2250 [==============================] - 0s 178us/step - loss: 1.1411 - acc: 0.6613 - val_loss: 1.1458 - val_acc: 0.5387\n",
            "Epoch 54/100\n",
            "2250/2250 [==============================] - 0s 180us/step - loss: 1.1440 - acc: 0.6316 - val_loss: 1.1628 - val_acc: 0.4507\n",
            "Epoch 55/100\n",
            "2250/2250 [==============================] - 0s 174us/step - loss: 1.1460 - acc: 0.6529 - val_loss: 1.1443 - val_acc: 0.5587\n",
            "Epoch 56/100\n",
            "2250/2250 [==============================] - 0s 182us/step - loss: 1.1449 - acc: 0.6293 - val_loss: 1.1443 - val_acc: 0.6280\n",
            "Epoch 57/100\n",
            "2250/2250 [==============================] - 0s 174us/step - loss: 1.1564 - acc: 0.6351 - val_loss: 1.1488 - val_acc: 0.5240\n",
            "Epoch 58/100\n",
            "2250/2250 [==============================] - 0s 180us/step - loss: 1.1522 - acc: 0.6302 - val_loss: 1.1477 - val_acc: 0.5173\n",
            "Epoch 59/100\n",
            "2250/2250 [==============================] - 0s 173us/step - loss: 1.1385 - acc: 0.6653 - val_loss: 1.1499 - val_acc: 0.5733\n",
            "Epoch 60/100\n",
            "2250/2250 [==============================] - 0s 175us/step - loss: 1.1449 - acc: 0.6498 - val_loss: 1.1452 - val_acc: 0.5373\n",
            "Epoch 61/100\n",
            "2250/2250 [==============================] - 0s 181us/step - loss: 1.1603 - acc: 0.6498 - val_loss: 1.1520 - val_acc: 0.4960\n",
            "Epoch 62/100\n",
            "2250/2250 [==============================] - 0s 175us/step - loss: 1.1310 - acc: 0.6591 - val_loss: 1.1506 - val_acc: 0.6880\n",
            "Epoch 63/100\n",
            "2250/2250 [==============================] - 0s 181us/step - loss: 1.1343 - acc: 0.6747 - val_loss: 1.1461 - val_acc: 0.5573\n",
            "Epoch 64/100\n",
            "2250/2250 [==============================] - 0s 174us/step - loss: 1.1284 - acc: 0.6631 - val_loss: 1.1473 - val_acc: 0.5360\n",
            "Epoch 65/100\n",
            "2250/2250 [==============================] - 0s 172us/step - loss: 1.1228 - acc: 0.6796 - val_loss: 1.1453 - val_acc: 0.5120\n",
            "Epoch 66/100\n",
            "2250/2250 [==============================] - 0s 175us/step - loss: 1.1589 - acc: 0.6498 - val_loss: 1.1474 - val_acc: 0.5107\n",
            "Epoch 67/100\n",
            "2250/2250 [==============================] - 0s 174us/step - loss: 1.1293 - acc: 0.6773 - val_loss: 1.1427 - val_acc: 0.6027\n",
            "Epoch 68/100\n",
            "2250/2250 [==============================] - 0s 173us/step - loss: 1.1301 - acc: 0.6409 - val_loss: 1.1461 - val_acc: 0.5813\n",
            "Epoch 69/100\n",
            "2250/2250 [==============================] - 0s 176us/step - loss: 1.1452 - acc: 0.6684 - val_loss: 1.1576 - val_acc: 0.5040\n",
            "Epoch 70/100\n",
            "2250/2250 [==============================] - 0s 173us/step - loss: 1.1441 - acc: 0.6329 - val_loss: 1.1457 - val_acc: 0.5867\n",
            "Epoch 71/100\n",
            "2250/2250 [==============================] - 0s 179us/step - loss: 1.1310 - acc: 0.6622 - val_loss: 1.1344 - val_acc: 0.6200\n",
            "Epoch 72/100\n",
            "2250/2250 [==============================] - 0s 175us/step - loss: 1.0916 - acc: 0.6716 - val_loss: 1.1498 - val_acc: 0.5667\n",
            "Epoch 73/100\n",
            "2250/2250 [==============================] - 0s 176us/step - loss: 1.1265 - acc: 0.6502 - val_loss: 1.1533 - val_acc: 0.5107\n",
            "Epoch 74/100\n",
            "2250/2250 [==============================] - 0s 178us/step - loss: 1.1260 - acc: 0.6622 - val_loss: 1.1475 - val_acc: 0.5427\n",
            "Epoch 75/100\n",
            "2250/2250 [==============================] - 0s 175us/step - loss: 1.1343 - acc: 0.6480 - val_loss: 1.1474 - val_acc: 0.5120\n",
            "Epoch 76/100\n",
            "2250/2250 [==============================] - 0s 176us/step - loss: 1.1146 - acc: 0.6880 - val_loss: 1.1421 - val_acc: 0.6000\n",
            "Epoch 77/100\n",
            "2250/2250 [==============================] - 0s 175us/step - loss: 1.1144 - acc: 0.6649 - val_loss: 1.1396 - val_acc: 0.5493\n",
            "Epoch 78/100\n",
            "2250/2250 [==============================] - 0s 173us/step - loss: 1.0986 - acc: 0.6596 - val_loss: 1.1551 - val_acc: 0.6613\n",
            "Epoch 79/100\n",
            "2250/2250 [==============================] - 0s 184us/step - loss: 1.1237 - acc: 0.6653 - val_loss: 1.1535 - val_acc: 0.5773\n",
            "Epoch 80/100\n",
            "2250/2250 [==============================] - 0s 172us/step - loss: 1.1248 - acc: 0.6671 - val_loss: 1.1595 - val_acc: 0.4867\n",
            "Epoch 81/100\n",
            "2250/2250 [==============================] - 0s 179us/step - loss: 1.1172 - acc: 0.6458 - val_loss: 1.1514 - val_acc: 0.5160\n",
            "Epoch 82/100\n",
            "2250/2250 [==============================] - 0s 176us/step - loss: 1.1256 - acc: 0.6551 - val_loss: 1.1431 - val_acc: 0.5693\n",
            "Epoch 83/100\n",
            "2250/2250 [==============================] - 0s 175us/step - loss: 1.1343 - acc: 0.6564 - val_loss: 1.1420 - val_acc: 0.5693\n",
            "Epoch 84/100\n",
            "2250/2250 [==============================] - 0s 179us/step - loss: 1.1174 - acc: 0.6813 - val_loss: 1.1448 - val_acc: 0.5667\n",
            "Epoch 85/100\n",
            "2250/2250 [==============================] - 0s 175us/step - loss: 1.1177 - acc: 0.6462 - val_loss: 1.1469 - val_acc: 0.6093\n",
            "Epoch 86/100\n",
            "2250/2250 [==============================] - 0s 182us/step - loss: 1.1357 - acc: 0.6636 - val_loss: 1.1460 - val_acc: 0.6280\n",
            "Epoch 87/100\n",
            "2250/2250 [==============================] - 0s 178us/step - loss: 1.0880 - acc: 0.6884 - val_loss: 1.1376 - val_acc: 0.6373\n",
            "Epoch 88/100\n",
            "2250/2250 [==============================] - 0s 173us/step - loss: 1.1261 - acc: 0.6716 - val_loss: 1.1418 - val_acc: 0.5720\n",
            "Epoch 89/100\n",
            "2250/2250 [==============================] - 0s 197us/step - loss: 1.1166 - acc: 0.6596 - val_loss: 1.1409 - val_acc: 0.5987\n",
            "Epoch 90/100\n",
            "2250/2250 [==============================] - 0s 201us/step - loss: 1.1198 - acc: 0.6733 - val_loss: 1.1472 - val_acc: 0.6533\n",
            "Epoch 91/100\n",
            "2250/2250 [==============================] - 0s 207us/step - loss: 1.1203 - acc: 0.6760 - val_loss: 1.1444 - val_acc: 0.5867\n",
            "Epoch 92/100\n",
            "2250/2250 [==============================] - 0s 206us/step - loss: 1.1219 - acc: 0.6378 - val_loss: 1.1457 - val_acc: 0.6080\n",
            "Epoch 93/100\n",
            "2250/2250 [==============================] - 0s 208us/step - loss: 1.1180 - acc: 0.6902 - val_loss: 1.1556 - val_acc: 0.5480\n",
            "Epoch 94/100\n",
            "2250/2250 [==============================] - 0s 203us/step - loss: 1.1136 - acc: 0.6547 - val_loss: 1.1497 - val_acc: 0.5413\n",
            "Epoch 95/100\n",
            "2250/2250 [==============================] - 0s 216us/step - loss: 1.1051 - acc: 0.6707 - val_loss: 1.1504 - val_acc: 0.5093\n",
            "Epoch 96/100\n",
            "2250/2250 [==============================] - 0s 202us/step - loss: 1.1219 - acc: 0.6631 - val_loss: 1.1412 - val_acc: 0.5707\n",
            "Epoch 97/100\n",
            "2250/2250 [==============================] - 0s 202us/step - loss: 1.1216 - acc: 0.6627 - val_loss: 1.1440 - val_acc: 0.5267\n",
            "Epoch 98/100\n",
            "2250/2250 [==============================] - 0s 211us/step - loss: 1.1239 - acc: 0.6476 - val_loss: 1.1478 - val_acc: 0.6720\n",
            "Epoch 99/100\n",
            "2250/2250 [==============================] - 0s 208us/step - loss: 1.1266 - acc: 0.6698 - val_loss: 1.1405 - val_acc: 0.6000\n",
            "Epoch 100/100\n",
            "2250/2250 [==============================] - 0s 208us/step - loss: 1.1052 - acc: 0.6858 - val_loss: 1.1445 - val_acc: 0.6213\n"
          ],
          "name": "stdout"
        }
      ]
    },
    {
      "cell_type": "code",
      "metadata": {
        "id": "fm1gUwg5CozD",
        "colab_type": "code",
        "outputId": "d1ca05df-7df4-4b47-81da-1a5775f804aa",
        "colab": {
          "base_uri": "https://localhost:8080/",
          "height": 86
        }
      },
      "source": [
        "val_acc = np.array(history1.history['val_acc'])\n",
        "val_loss = np.array(history1.history['val_loss'])\n",
        "model_acc = np.array(history1.history['acc'])\n",
        "model_loss = np.array(history1.history['loss'])\n",
        "print('Average validation loss:', val_loss.sum()/1000)\n",
        "print('Average validation accuracy:', val_acc.sum()/1000)\n",
        "print('Average loss:', model_loss.sum()/1000)\n",
        "print('Average accuracy:', model_acc.sum()/1000)"
      ],
      "execution_count": 9,
      "outputs": [
        {
          "output_type": "stream",
          "text": [
            "Average validation loss: 0.1156072628966967\n",
            "Average validation accuracy: 0.05312800015091896\n",
            "Average loss: 0.11660599640846252\n",
            "Average accuracy: 0.0638208889055252\n"
          ],
          "name": "stdout"
        }
      ]
    },
    {
      "cell_type": "code",
      "metadata": {
        "id": "6SvagqgjmQtl",
        "colab_type": "code",
        "outputId": "f99f9ba0-d661-40ca-81ce-2e88c9bcff86",
        "colab": {
          "base_uri": "https://localhost:8080/",
          "height": 69
        }
      },
      "source": [
        "evaluation = model.evaluate(x_train, y_train)\n",
        "print('Loss:', evaluation[0])\n",
        "print('Accuracy:', evaluation[1])"
      ],
      "execution_count": 10,
      "outputs": [
        {
          "output_type": "stream",
          "text": [
            "3000/3000 [==============================] - 0s 40us/step\n",
            "Loss: 0.6170673480033875\n",
            "Accuracy: 0.6546666665871939\n"
          ],
          "name": "stdout"
        }
      ]
    },
    {
      "cell_type": "code",
      "metadata": {
        "id": "8LuL5TKemQtp",
        "colab_type": "code",
        "colab": {}
      },
      "source": [
        "y_pred = model.predict(x_test)\n",
        "y_pred = (y_pred > 0.5)"
      ],
      "execution_count": 0,
      "outputs": []
    },
    {
      "cell_type": "code",
      "metadata": {
        "id": "26TIFeIFmQts",
        "colab_type": "code",
        "outputId": "63508c57-676c-4ad4-93d8-531cbae68fcd",
        "colab": {
          "base_uri": "https://localhost:8080/",
          "height": 128
        }
      },
      "source": [
        "from sklearn.metrics import confusion_matrix, accuracy_score\n",
        "cm = confusion_matrix(y_test, y_pred)\n",
        "conf_matrix = pd.DataFrame(data = cm, \n",
        "                           columns = ['Predicted: 0', 'Predicted: 1'], \n",
        "                           index = ['Actual:0', 'Actual:1'])\n",
        "print('Accuracy:', accuracy_score(y_test, y_pred))\n",
        "conf_matrix"
      ],
      "execution_count": 12,
      "outputs": [
        {
          "output_type": "stream",
          "text": [
            "Accuracy: 0.62982689747004\n"
          ],
          "name": "stdout"
        },
        {
          "output_type": "execute_result",
          "data": {
            "text/html": [
              "<div>\n",
              "<style scoped>\n",
              "    .dataframe tbody tr th:only-of-type {\n",
              "        vertical-align: middle;\n",
              "    }\n",
              "\n",
              "    .dataframe tbody tr th {\n",
              "        vertical-align: top;\n",
              "    }\n",
              "\n",
              "    .dataframe thead th {\n",
              "        text-align: right;\n",
              "    }\n",
              "</style>\n",
              "<table border=\"1\" class=\"dataframe\">\n",
              "  <thead>\n",
              "    <tr style=\"text-align: right;\">\n",
              "      <th></th>\n",
              "      <th>Predicted: 0</th>\n",
              "      <th>Predicted: 1</th>\n",
              "    </tr>\n",
              "  </thead>\n",
              "  <tbody>\n",
              "    <tr>\n",
              "      <th>Actual:0</th>\n",
              "      <td>414</td>\n",
              "      <td>233</td>\n",
              "    </tr>\n",
              "    <tr>\n",
              "      <th>Actual:1</th>\n",
              "      <td>45</td>\n",
              "      <td>59</td>\n",
              "    </tr>\n",
              "  </tbody>\n",
              "</table>\n",
              "</div>"
            ],
            "text/plain": [
              "          Predicted: 0  Predicted: 1\n",
              "Actual:0           414           233\n",
              "Actual:1            45            59"
            ]
          },
          "metadata": {
            "tags": []
          },
          "execution_count": 12
        }
      ]
    },
    {
      "cell_type": "code",
      "metadata": {
        "id": "Em548FTx49k4",
        "colab_type": "code",
        "outputId": "ca51f103-2969-432f-80e5-9ccbab625e2b",
        "colab": {
          "base_uri": "https://localhost:8080/",
          "height": 574
        }
      },
      "source": [
        "import matplotlib.pyplot as plt\n",
        "plt.plot(history1.history['acc'])\n",
        "plt.plot(history1.history['val_acc'])\n",
        "plt.title('Model accuracy')\n",
        "plt.ylabel('Accuracy')\n",
        "plt.xlabel('Epoch')\n",
        "plt.legend(['Train', 'Test'], loc='upper left')\n",
        "plt.show()\n",
        "plt.plot(history1.history['loss'])\n",
        "plt.plot(history1.history['val_loss'])\n",
        "plt.title('Model loss')\n",
        "plt.ylabel('Loss')\n",
        "plt.xlabel('Epoch')\n",
        "plt.legend(['Train', 'Test'], loc='upper left')\n",
        "plt.show()"
      ],
      "execution_count": 13,
      "outputs": [
        {
          "output_type": "display_data",
          "data": {
            "image/png": "[encoded data removed]",
            "text/plain": [
              "<Figure size 432x288 with 1 Axes>"
            ]
          },
          "metadata": {
            "tags": []
          }
        },
        {
          "output_type": "display_data",
          "data": {
            "image/png": "[encoded data removed]",
            "text/plain": [
              "<Figure size 432x288 with 1 Axes>"
            ]
          },
          "metadata": {
            "tags": []
          }
        }
      ]
    }
  ]
}