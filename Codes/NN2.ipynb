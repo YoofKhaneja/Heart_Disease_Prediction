{
  "nbformat": 4,
  "nbformat_minor": 0,
  "metadata": {
    "colab": {
      "name": "NN2.ipynb",
      "version": "0.3.2",
      "provenance": [],
      "collapsed_sections": []
    },
    "language_info": {
      "codemirror_mode": {
        "name": "ipython",
        "version": 3
      },
      "file_extension": ".py",
      "mimetype": "text/x-python",
      "name": "python",
      "nbconvert_exporter": "python",
      "pygments_lexer": "ipython3",
      "version": "3.7.3"
    },
    "kernelspec": {
      "name": "python3",
      "display_name": "Python 3"
    },
    "accelerator": "GPU"
  },
  "cells": [
    {
      "cell_type": "code",
      "metadata": {
        "id": "QrhH7SdpmQtI",
        "colab_type": "code",
        "colab": {}
      },
      "source": [
        "import numpy as np\n",
        "import pandas as pd\n",
        "import warnings\n",
        "warnings.filterwarnings(\"ignore\")"
      ],
      "execution_count": 0,
      "outputs": []
    },
    {
      "cell_type": "code",
      "metadata": {
        "id": "QGvYnSCvnbds",
        "colab_type": "code",
        "outputId": "4d1cfa46-3c4e-436b-de13-0256aa899e8d",
        "colab": {
          "resources": {
            "http://localhost:8080/nbextensions/google.colab/files.js": {
              "data": "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",
              "ok": true,
              "headers": [
                [
                  "content-type",
                  "application/javascript"
                ]
              ],
              "status": 200,
              "status_text": ""
            }
          },
          "base_uri": "https://localhost:8080/",
          "height": 74
        }
      },
      "source": [
        "from google.colab import files\n",
        "uploaded = files.upload()"
      ],
      "execution_count": 2,
      "outputs": [
        {
          "output_type": "display_data",
          "data": {
            "text/html": [
              "\n",
              "     <input type=\"file\" id=\"files-ec61ab45-2482-4fe6-b211-3d889b04f653\" name=\"files[]\" multiple disabled />\n",
              "     <output id=\"result-ec61ab45-2482-4fe6-b211-3d889b04f653\">\n",
              "      Upload widget is only available when the cell has been executed in the\n",
              "      current browser session. Please rerun this cell to enable.\n",
              "      </output>\n",
              "      <script src=\"/nbextensions/google.colab/files.js\"></script> "
            ],
            "text/plain": [
              "<IPython.core.display.HTML object>"
            ]
          },
          "metadata": {
            "tags": []
          }
        },
        {
          "output_type": "stream",
          "text": [
            "Saving framingham.csv to framingham (1).csv\n"
          ],
          "name": "stdout"
        }
      ]
    },
    {
      "cell_type": "code",
      "metadata": {
        "id": "M9nGMyCRmQtM",
        "colab_type": "code",
        "colab": {}
      },
      "source": [
        "import io\n",
        "hd = pd.read_csv(io.BytesIO(uploaded['framingham.csv']))\n",
        "hd.drop(['education'], \n",
        "        axis = 1, \n",
        "        inplace = True)\n",
        "hd.dropna(axis = 0, \n",
        "          inplace = True)\n",
        "attrib = hd.iloc[:, :-1]\n",
        "lab = hd.iloc[:, -1]"
      ],
      "execution_count": 0,
      "outputs": []
    },
    {
      "cell_type": "code",
      "metadata": {
        "id": "ZR8e1vgxm8Fg",
        "colab_type": "code",
        "colab": {}
      },
      "source": [
        "from sklearn.model_selection import train_test_split\n",
        "x_train, x_test, y_train, y_test = train_test_split(attrib, lab, \n",
        "                                                    test_size = .20, \n",
        "                                                    random_state = 0)\n"
      ],
      "execution_count": 0,
      "outputs": []
    },
    {
      "cell_type": "code",
      "metadata": {
        "id": "jFe9g_cbmQtY",
        "colab_type": "code",
        "outputId": "7c8eb489-8f11-4f21-951e-be4b06228c2f",
        "colab": {
          "base_uri": "https://localhost:8080/",
          "height": 105
        }
      },
      "source": [
        "from keras import Sequential, regularizers\n",
        "from keras.layers import Dense, Activation, Dropout\n",
        "model = Sequential()\n",
        "model.add(Dense(200, input_dim = 14, \n",
        "                kernel_initializer = 'random_uniform', \n",
        "                bias_initializer = 'zeros', \n",
        "                kernel_regularizer = regularizers.l2(0.01)))\n",
        "model.add(Activation('relu', name = 'A1'))\n",
        "model.add(Dense(200, \n",
        "                kernel_initializer = 'random_uniform', \n",
        "                bias_initializer = 'zeros', \n",
        "                kernel_regularizer = regularizers.l2(0.01)))\n",
        "model.add(Activation('relu', name = 'A2'))\n",
        "model.add(Dense(1, \n",
        "                kernel_initializer = 'random_uniform', \n",
        "                bias_initializer = 'zeros',\n",
        "                kernel_regularizer = regularizers.l2(0.01)))\n",
        "model.add(Activation('sigmoid'))"
      ],
      "execution_count": 5,
      "outputs": [
        {
          "output_type": "stream",
          "text": [
            "Using TensorFlow backend.\n"
          ],
          "name": "stderr"
        },
        {
          "output_type": "stream",
          "text": [
            "WARNING:tensorflow:From /usr/local/lib/python3.6/dist-packages/tensorflow/python/framework/op_def_library.py:263: colocate_with (from tensorflow.python.framework.ops) is deprecated and will be removed in a future version.\n",
            "Instructions for updating:\n",
            "Colocations handled automatically by placer.\n"
          ],
          "name": "stdout"
        }
      ]
    },
    {
      "cell_type": "code",
      "metadata": {
        "id": "jHQb1b1umQte",
        "colab_type": "code",
        "outputId": "4bb48bcf-d595-4ebf-cbaf-2c40ce02ccb0",
        "colab": {
          "base_uri": "https://localhost:8080/",
          "height": 340
        }
      },
      "source": [
        "from keras import optimizers\n",
        "model.compile(optimizer = 'Adam', \n",
        "              loss = 'binary_crossentropy', \n",
        "              metrics = ['accuracy'])\n",
        "model.summary()"
      ],
      "execution_count": 6,
      "outputs": [
        {
          "output_type": "stream",
          "text": [
            "_________________________________________________________________\n",
            "Layer (type)                 Output Shape              Param #   \n",
            "=================================================================\n",
            "dense_1 (Dense)              (None, 200)               3000      \n",
            "_________________________________________________________________\n",
            "A1 (Activation)              (None, 200)               0         \n",
            "_________________________________________________________________\n",
            "dense_2 (Dense)              (None, 200)               40200     \n",
            "_________________________________________________________________\n",
            "A2 (Activation)              (None, 200)               0         \n",
            "_________________________________________________________________\n",
            "dense_3 (Dense)              (None, 1)                 201       \n",
            "_________________________________________________________________\n",
            "activation_1 (Activation)    (None, 1)                 0         \n",
            "=================================================================\n",
            "Total params: 43,401\n",
            "Trainable params: 43,401\n",
            "Non-trainable params: 0\n",
            "_________________________________________________________________\n"
          ],
          "name": "stdout"
        }
      ]
    },
    {
      "cell_type": "code",
      "metadata": {
        "id": "T--9MranmQti",
        "colab_type": "code",
        "outputId": "d67c2eb5-805a-4e21-bad6-355549e010f9",
        "colab": {
          "base_uri": "https://localhost:8080/",
          "height": 1805
        }
      },
      "source": [
        "from keras.callbacks import ReduceLROnPlateau\n",
        "reduce_lr = ReduceLROnPlateau(monitor = 'val_acc', \n",
        "                              factor = 0.5,\n",
        "                              patience = 1, min_lr = 0.0001)\n",
        "class_weights = {0: 0.2, 1: 1.0}\n",
        "history = model.fit(x_train, y_train, \n",
        "          validation_split = 0.25, \n",
        "          batch_size = 10, \n",
        "          epochs = 50,\n",
        "          verbose = 1,\n",
        "          callbacks = [reduce_lr],\n",
        "          class_weight = class_weights)"
      ],
      "execution_count": 7,
      "outputs": [
        {
          "output_type": "stream",
          "text": [
            "WARNING:tensorflow:From /usr/local/lib/python3.6/dist-packages/tensorflow/python/ops/math_ops.py:3066: to_int32 (from tensorflow.python.ops.math_ops) is deprecated and will be removed in a future version.\n",
            "Instructions for updating:\n",
            "Use tf.cast instead.\n",
            "Train on 2250 samples, validate on 750 samples\n",
            "Epoch 1/50\n",
            "2250/2250 [==============================] - 2s 875us/step - loss: 0.3091 - acc: 0.5262 - val_loss: 0.2458 - val_acc: 0.7813\n",
            "Epoch 2/50\n",
            "2250/2250 [==============================] - 1s 358us/step - loss: 0.2411 - acc: 0.6124 - val_loss: 0.2286 - val_acc: 0.8013\n",
            "Epoch 3/50\n",
            "2250/2250 [==============================] - 1s 360us/step - loss: 0.2296 - acc: 0.6013 - val_loss: 0.2276 - val_acc: 0.3800\n",
            "Epoch 4/50\n",
            "2250/2250 [==============================] - 1s 348us/step - loss: 0.2220 - acc: 0.6329 - val_loss: 0.2202 - val_acc: 0.7080\n",
            "Epoch 5/50\n",
            "2250/2250 [==============================] - 1s 357us/step - loss: 0.2185 - acc: 0.6796 - val_loss: 0.2203 - val_acc: 0.7373\n",
            "Epoch 6/50\n",
            "2250/2250 [==============================] - 1s 356us/step - loss: 0.2166 - acc: 0.6680 - val_loss: 0.2199 - val_acc: 0.7133\n",
            "Epoch 7/50\n",
            "2250/2250 [==============================] - 1s 353us/step - loss: 0.2161 - acc: 0.6849 - val_loss: 0.2188 - val_acc: 0.6293\n",
            "Epoch 8/50\n",
            "2250/2250 [==============================] - 1s 366us/step - loss: 0.2151 - acc: 0.6676 - val_loss: 0.2190 - val_acc: 0.6720\n",
            "Epoch 9/50\n",
            "2250/2250 [==============================] - 1s 353us/step - loss: 0.2139 - acc: 0.6822 - val_loss: 0.2193 - val_acc: 0.5773\n",
            "Epoch 10/50\n",
            "2250/2250 [==============================] - 1s 354us/step - loss: 0.2137 - acc: 0.6653 - val_loss: 0.2193 - val_acc: 0.7027\n",
            "Epoch 11/50\n",
            "2250/2250 [==============================] - 1s 356us/step - loss: 0.2136 - acc: 0.6831 - val_loss: 0.2178 - val_acc: 0.6907\n",
            "Epoch 12/50\n",
            "2250/2250 [==============================] - 1s 361us/step - loss: 0.2128 - acc: 0.6778 - val_loss: 0.2187 - val_acc: 0.7093\n",
            "Epoch 13/50\n",
            "2250/2250 [==============================] - 1s 356us/step - loss: 0.2130 - acc: 0.6880 - val_loss: 0.2196 - val_acc: 0.5453\n",
            "Epoch 14/50\n",
            "2250/2250 [==============================] - 1s 347us/step - loss: 0.2126 - acc: 0.6738 - val_loss: 0.2203 - val_acc: 0.7640\n",
            "Epoch 15/50\n",
            "2250/2250 [==============================] - 1s 359us/step - loss: 0.2124 - acc: 0.6844 - val_loss: 0.2184 - val_acc: 0.5613\n",
            "Epoch 16/50\n",
            "2250/2250 [==============================] - 1s 353us/step - loss: 0.2116 - acc: 0.6809 - val_loss: 0.2205 - val_acc: 0.5133\n",
            "Epoch 17/50\n",
            "2250/2250 [==============================] - 1s 350us/step - loss: 0.2114 - acc: 0.6622 - val_loss: 0.2175 - val_acc: 0.6947\n",
            "Epoch 18/50\n",
            "2250/2250 [==============================] - 1s 352us/step - loss: 0.2127 - acc: 0.6804 - val_loss: 0.2174 - val_acc: 0.6320\n",
            "Epoch 19/50\n",
            "2250/2250 [==============================] - 1s 353us/step - loss: 0.2113 - acc: 0.6844 - val_loss: 0.2166 - val_acc: 0.7013\n",
            "Epoch 20/50\n",
            "2250/2250 [==============================] - 1s 351us/step - loss: 0.2117 - acc: 0.6831 - val_loss: 0.2187 - val_acc: 0.7747\n",
            "Epoch 21/50\n",
            "2250/2250 [==============================] - 1s 361us/step - loss: 0.2118 - acc: 0.6844 - val_loss: 0.2159 - val_acc: 0.6760\n",
            "Epoch 22/50\n",
            "2250/2250 [==============================] - 1s 356us/step - loss: 0.2107 - acc: 0.6938 - val_loss: 0.2183 - val_acc: 0.5507\n",
            "Epoch 23/50\n",
            "2250/2250 [==============================] - 1s 355us/step - loss: 0.2111 - acc: 0.6822 - val_loss: 0.2165 - val_acc: 0.6560\n",
            "Epoch 24/50\n",
            "2250/2250 [==============================] - 1s 354us/step - loss: 0.2109 - acc: 0.6787 - val_loss: 0.2173 - val_acc: 0.7413\n",
            "Epoch 25/50\n",
            "2250/2250 [==============================] - 1s 356us/step - loss: 0.2116 - acc: 0.6818 - val_loss: 0.2160 - val_acc: 0.6760\n",
            "Epoch 26/50\n",
            "2250/2250 [==============================] - 1s 357us/step - loss: 0.2116 - acc: 0.6898 - val_loss: 0.2166 - val_acc: 0.6867\n",
            "Epoch 27/50\n",
            "2250/2250 [==============================] - 1s 351us/step - loss: 0.2113 - acc: 0.7009 - val_loss: 0.2166 - val_acc: 0.6400\n",
            "Epoch 28/50\n",
            "2250/2250 [==============================] - 1s 350us/step - loss: 0.2111 - acc: 0.6733 - val_loss: 0.2164 - val_acc: 0.7000\n",
            "Epoch 29/50\n",
            "2250/2250 [==============================] - 1s 363us/step - loss: 0.2101 - acc: 0.6929 - val_loss: 0.2152 - val_acc: 0.6667\n",
            "Epoch 30/50\n",
            "2250/2250 [==============================] - 1s 352us/step - loss: 0.2106 - acc: 0.6876 - val_loss: 0.2169 - val_acc: 0.7173\n",
            "Epoch 31/50\n",
            "2250/2250 [==============================] - 1s 355us/step - loss: 0.2108 - acc: 0.6880 - val_loss: 0.2157 - val_acc: 0.6480\n",
            "Epoch 32/50\n",
            "2250/2250 [==============================] - 1s 352us/step - loss: 0.2105 - acc: 0.6924 - val_loss: 0.2175 - val_acc: 0.5867\n",
            "Epoch 33/50\n",
            "2250/2250 [==============================] - 1s 352us/step - loss: 0.2107 - acc: 0.6862 - val_loss: 0.2161 - val_acc: 0.7227\n",
            "Epoch 34/50\n",
            "2250/2250 [==============================] - 1s 352us/step - loss: 0.2104 - acc: 0.6831 - val_loss: 0.2159 - val_acc: 0.7107\n",
            "Epoch 35/50\n",
            "2250/2250 [==============================] - 1s 355us/step - loss: 0.2103 - acc: 0.6884 - val_loss: 0.2149 - val_acc: 0.6347\n",
            "Epoch 36/50\n",
            "2250/2250 [==============================] - 1s 354us/step - loss: 0.2110 - acc: 0.6836 - val_loss: 0.2163 - val_acc: 0.6493\n",
            "Epoch 37/50\n",
            "2250/2250 [==============================] - 1s 350us/step - loss: 0.2101 - acc: 0.6880 - val_loss: 0.2164 - val_acc: 0.6453\n",
            "Epoch 38/50\n",
            "2250/2250 [==============================] - 1s 350us/step - loss: 0.2097 - acc: 0.6911 - val_loss: 0.2160 - val_acc: 0.7107\n",
            "Epoch 39/50\n",
            "2250/2250 [==============================] - 1s 352us/step - loss: 0.2095 - acc: 0.6911 - val_loss: 0.2176 - val_acc: 0.7507\n",
            "Epoch 40/50\n",
            "2250/2250 [==============================] - 1s 355us/step - loss: 0.2102 - acc: 0.6844 - val_loss: 0.2162 - val_acc: 0.6253\n",
            "Epoch 41/50\n",
            "2250/2250 [==============================] - 1s 348us/step - loss: 0.2098 - acc: 0.6933 - val_loss: 0.2157 - val_acc: 0.6920\n",
            "Epoch 42/50\n",
            "2250/2250 [==============================] - 1s 356us/step - loss: 0.2092 - acc: 0.6938 - val_loss: 0.2164 - val_acc: 0.5893\n",
            "Epoch 43/50\n",
            "2250/2250 [==============================] - 1s 350us/step - loss: 0.2095 - acc: 0.6773 - val_loss: 0.2196 - val_acc: 0.8027\n",
            "Epoch 44/50\n",
            "2250/2250 [==============================] - 1s 352us/step - loss: 0.2097 - acc: 0.6898 - val_loss: 0.2174 - val_acc: 0.7680\n",
            "Epoch 45/50\n",
            "2250/2250 [==============================] - 1s 348us/step - loss: 0.2100 - acc: 0.6991 - val_loss: 0.2156 - val_acc: 0.7093\n",
            "Epoch 46/50\n",
            "2250/2250 [==============================] - 1s 357us/step - loss: 0.2094 - acc: 0.7000 - val_loss: 0.2149 - val_acc: 0.6560\n",
            "Epoch 47/50\n",
            "2250/2250 [==============================] - 1s 367us/step - loss: 0.2093 - acc: 0.6951 - val_loss: 0.2159 - val_acc: 0.6307\n",
            "Epoch 48/50\n",
            "2250/2250 [==============================] - 1s 351us/step - loss: 0.2098 - acc: 0.6858 - val_loss: 0.2152 - val_acc: 0.6520\n",
            "Epoch 49/50\n",
            "2250/2250 [==============================] - 1s 352us/step - loss: 0.2091 - acc: 0.6862 - val_loss: 0.2149 - val_acc: 0.6640\n",
            "Epoch 50/50\n",
            "2250/2250 [==============================] - 1s 354us/step - loss: 0.2099 - acc: 0.6978 - val_loss: 0.2156 - val_acc: 0.7000\n"
          ],
          "name": "stdout"
        }
      ]
    },
    {
      "cell_type": "code",
      "metadata": {
        "id": "fm1gUwg5CozD",
        "colab_type": "code",
        "outputId": "500305ee-8909-4bce-9126-5ce995a9861d",
        "colab": {
          "base_uri": "https://localhost:8080/",
          "height": 85
        }
      },
      "source": [
        "val_acc = np.array(history.history['val_acc'])\n",
        "val_loss = np.array(history.history['val_loss'])\n",
        "model_acc = np.array(history.history['acc'])\n",
        "model_loss = np.array(history.history['loss'])\n",
        "print('Average validation loss:', val_loss.sum()/50)\n",
        "print('Average validation accuracy:', val_acc.sum()/50)\n",
        "print('Average loss:', model_loss.sum()/50)\n",
        "print('Average accuracy:', model_acc.sum()/50)"
      ],
      "execution_count": 8,
      "outputs": [
        {
          "output_type": "stream",
          "text": [
            "Average validation loss: 0.21827200586199763\n",
            "Average validation accuracy: 0.6709600025335948\n",
            "Average loss: 0.2145703219883972\n",
            "Average accuracy: 0.6775733354032039\n"
          ],
          "name": "stdout"
        }
      ]
    },
    {
      "cell_type": "code",
      "metadata": {
        "id": "6SvagqgjmQtl",
        "colab_type": "code",
        "outputId": "e173dbb0-d551-43c8-fa9d-2957298f6cc1",
        "colab": {
          "base_uri": "https://localhost:8080/",
          "height": 68
        }
      },
      "source": [
        "evaluation = model.evaluate(x_train, y_train)\n",
        "print('Loss:', evaluation[0])\n",
        "print('Accuracy:', evaluation[1])"
      ],
      "execution_count": 9,
      "outputs": [
        {
          "output_type": "stream",
          "text": [
            "3000/3000 [==============================] - 0s 39us/step\n",
            "Loss: 0.6002515014012655\n",
            "Accuracy: 0.713333333492279\n"
          ],
          "name": "stdout"
        }
      ]
    },
    {
      "cell_type": "code",
      "metadata": {
        "id": "8LuL5TKemQtp",
        "colab_type": "code",
        "colab": {}
      },
      "source": [
        "y_pred = model.predict(x_test)\n",
        "y_pred = (y_pred > 0.5)"
      ],
      "execution_count": 0,
      "outputs": []
    },
    {
      "cell_type": "code",
      "metadata": {
        "id": "26TIFeIFmQts",
        "colab_type": "code",
        "outputId": "e9b5a53f-154a-4a07-ec83-ae4063e23b7e",
        "colab": {
          "base_uri": "https://localhost:8080/",
          "height": 128
        }
      },
      "source": [
        "from sklearn.metrics import confusion_matrix, accuracy_score\n",
        "cm = confusion_matrix(y_test, y_pred)\n",
        "conf_matrix = pd.DataFrame(data = cm, \n",
        "                           columns = ['Predicted: 0', 'Predicted: 1'], \n",
        "                           index = ['Actual:0', 'Actual:1'])\n",
        "print('Accuracy:', accuracy_score(y_test, y_pred))\n",
        "conf_matrix"
      ],
      "execution_count": 11,
      "outputs": [
        {
          "output_type": "stream",
          "text": [
            "Accuracy: 0.7097203728362184\n"
          ],
          "name": "stdout"
        },
        {
          "output_type": "execute_result",
          "data": {
            "text/html": [
              "<div>\n",
              "<style scoped>\n",
              "    .dataframe tbody tr th:only-of-type {\n",
              "        vertical-align: middle;\n",
              "    }\n",
              "\n",
              "    .dataframe tbody tr th {\n",
              "        vertical-align: top;\n",
              "    }\n",
              "\n",
              "    .dataframe thead th {\n",
              "        text-align: right;\n",
              "    }\n",
              "</style>\n",
              "<table border=\"1\" class=\"dataframe\">\n",
              "  <thead>\n",
              "    <tr style=\"text-align: right;\">\n",
              "      <th></th>\n",
              "      <th>Predicted: 0</th>\n",
              "      <th>Predicted: 1</th>\n",
              "    </tr>\n",
              "  </thead>\n",
              "  <tbody>\n",
              "    <tr>\n",
              "      <th>Actual:0</th>\n",
              "      <td>490</td>\n",
              "      <td>157</td>\n",
              "    </tr>\n",
              "    <tr>\n",
              "      <th>Actual:1</th>\n",
              "      <td>61</td>\n",
              "      <td>43</td>\n",
              "    </tr>\n",
              "  </tbody>\n",
              "</table>\n",
              "</div>"
            ],
            "text/plain": [
              "          Predicted: 0  Predicted: 1\n",
              "Actual:0           490           157\n",
              "Actual:1            61            43"
            ]
          },
          "metadata": {
            "tags": []
          },
          "execution_count": 11
        }
      ]
    },
    {
      "cell_type": "code",
      "metadata": {
        "id": "Em548FTx49k4",
        "colab_type": "code",
        "outputId": "e295ccb0-7435-4966-8dc4-2e108c589ee4",
        "colab": {
          "base_uri": "https://localhost:8080/",
          "height": 573
        }
      },
      "source": [
        "import matplotlib.pyplot as plt\n",
        "plt.plot(history.history['acc'])\n",
        "plt.plot(history.history['val_acc'])\n",
        "plt.title('Model accuracy')\n",
        "plt.ylabel('Accuracy')\n",
        "plt.xlabel('Epoch')\n",
        "plt.legend(['Train', 'Test'], loc='upper left')\n",
        "plt.show()\n",
        "plt.plot(history.history['loss'])\n",
        "plt.plot(history.history['val_loss'])\n",
        "plt.title('Model loss')\n",
        "plt.ylabel('Loss')\n",
        "plt.xlabel('Epoch')\n",
        "plt.legend(['Train', 'Test'], loc='upper left')\n",
        "plt.show()"
      ],
      "execution_count": 12,
      "outputs": [
        {
          "output_type": "display_data",
          "data": {
            "image/png": "[encoded data removed]",
            "text/plain": [
              "<Figure size 432x288 with 1 Axes>"
            ]
          },
          "metadata": {
            "tags": []
          }
        },
        {
          "output_type": "display_data",
          "data": {
            "image/png": "[encoded data removed]",
            "text/plain": [
              "<Figure size 432x288 with 1 Axes>"
            ]
          },
          "metadata": {
            "tags": []
          }
        }
      ]
    }
  ]
}